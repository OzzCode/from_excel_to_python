{
 "cells": [
  {
   "cell_type": "markdown",
   "metadata": {
    "collapsed": true,
    "pycharm": {
     "name": "#%% md\n"
    }
   },
   "source": [
    "## Using Boolean Filters (similar to the filter in Excel)"
   ]
  },
  {
   "cell_type": "code",
   "execution_count": 1,
   "outputs": [],
   "source": [
    "import pandas as pd"
   ],
   "metadata": {
    "collapsed": false,
    "pycharm": {
     "name": "#%%\n"
    }
   }
  },
  {
   "cell_type": "code",
   "execution_count": 2,
   "outputs": [
    {
     "data": {
      "text/plain": "     invoice    company purchase_date      sku product  quantity  price  \\\n0  ZN-870-29   Realcube    2019-03-05   L-Y-71   shirt        19     17   \n1  JQ-501-63      Zooxo    2019-07-09    E-532    book        30     14   \n2  FI-165-58    Dabtype    2019-08-12    S-909  poster         7     23   \n3  XP-005-55   Skipfire    2019-11-18    B-B-5     pen         7     29   \n4  NB-917-18   Bluezoom    2019-04-18    L-477  poster        36     19   \n5  MI-696-11     Zooveo    2019-10-17   B-BK-5     pen        -1     30   \n6  MQ-907-02  Babbleset    2019-10-27    L-579  poster        30     21   \n7  NX-102-26   Fliptune    2019-10-16    E-201    book        40     28   \n8  LE-516-00   Buzzbean    2019-06-17    S-393  poster        -3     16   \n9  VD-518-20   Dabshots    2019-03-12  XL-B-12   shirt        19     28   \n\n   extended amount  shipping_cost  \n0              323           6.46  \n1              420           8.40  \n2              161           3.22  \n3              203           4.06  \n4              684          13.68  \n5              -30           0.00  \n6              630          12.60  \n7             1120          22.40  \n8              -48           0.00  \n9              532          10.64  ",
      "text/html": "<div>\n<style scoped>\n    .dataframe tbody tr th:only-of-type {\n        vertical-align: middle;\n    }\n\n    .dataframe tbody tr th {\n        vertical-align: top;\n    }\n\n    .dataframe thead th {\n        text-align: right;\n    }\n</style>\n<table border=\"1\" class=\"dataframe\">\n  <thead>\n    <tr style=\"text-align: right;\">\n      <th></th>\n      <th>invoice</th>\n      <th>company</th>\n      <th>purchase_date</th>\n      <th>sku</th>\n      <th>product</th>\n      <th>quantity</th>\n      <th>price</th>\n      <th>extended amount</th>\n      <th>shipping_cost</th>\n    </tr>\n  </thead>\n  <tbody>\n    <tr>\n      <th>0</th>\n      <td>ZN-870-29</td>\n      <td>Realcube</td>\n      <td>2019-03-05</td>\n      <td>L-Y-71</td>\n      <td>shirt</td>\n      <td>19</td>\n      <td>17</td>\n      <td>323</td>\n      <td>6.46</td>\n    </tr>\n    <tr>\n      <th>1</th>\n      <td>JQ-501-63</td>\n      <td>Zooxo</td>\n      <td>2019-07-09</td>\n      <td>E-532</td>\n      <td>book</td>\n      <td>30</td>\n      <td>14</td>\n      <td>420</td>\n      <td>8.40</td>\n    </tr>\n    <tr>\n      <th>2</th>\n      <td>FI-165-58</td>\n      <td>Dabtype</td>\n      <td>2019-08-12</td>\n      <td>S-909</td>\n      <td>poster</td>\n      <td>7</td>\n      <td>23</td>\n      <td>161</td>\n      <td>3.22</td>\n    </tr>\n    <tr>\n      <th>3</th>\n      <td>XP-005-55</td>\n      <td>Skipfire</td>\n      <td>2019-11-18</td>\n      <td>B-B-5</td>\n      <td>pen</td>\n      <td>7</td>\n      <td>29</td>\n      <td>203</td>\n      <td>4.06</td>\n    </tr>\n    <tr>\n      <th>4</th>\n      <td>NB-917-18</td>\n      <td>Bluezoom</td>\n      <td>2019-04-18</td>\n      <td>L-477</td>\n      <td>poster</td>\n      <td>36</td>\n      <td>19</td>\n      <td>684</td>\n      <td>13.68</td>\n    </tr>\n    <tr>\n      <th>5</th>\n      <td>MI-696-11</td>\n      <td>Zooveo</td>\n      <td>2019-10-17</td>\n      <td>B-BK-5</td>\n      <td>pen</td>\n      <td>-1</td>\n      <td>30</td>\n      <td>-30</td>\n      <td>0.00</td>\n    </tr>\n    <tr>\n      <th>6</th>\n      <td>MQ-907-02</td>\n      <td>Babbleset</td>\n      <td>2019-10-27</td>\n      <td>L-579</td>\n      <td>poster</td>\n      <td>30</td>\n      <td>21</td>\n      <td>630</td>\n      <td>12.60</td>\n    </tr>\n    <tr>\n      <th>7</th>\n      <td>NX-102-26</td>\n      <td>Fliptune</td>\n      <td>2019-10-16</td>\n      <td>E-201</td>\n      <td>book</td>\n      <td>40</td>\n      <td>28</td>\n      <td>1120</td>\n      <td>22.40</td>\n    </tr>\n    <tr>\n      <th>8</th>\n      <td>LE-516-00</td>\n      <td>Buzzbean</td>\n      <td>2019-06-17</td>\n      <td>S-393</td>\n      <td>poster</td>\n      <td>-3</td>\n      <td>16</td>\n      <td>-48</td>\n      <td>0.00</td>\n    </tr>\n    <tr>\n      <th>9</th>\n      <td>VD-518-20</td>\n      <td>Dabshots</td>\n      <td>2019-03-12</td>\n      <td>XL-B-12</td>\n      <td>shirt</td>\n      <td>19</td>\n      <td>28</td>\n      <td>532</td>\n      <td>10.64</td>\n    </tr>\n  </tbody>\n</table>\n</div>"
     },
     "execution_count": 2,
     "metadata": {},
     "output_type": "execute_result"
    }
   ],
   "source": [
    "src_file = '../data/raw/sample_sales_details.xlsx'\n",
    "df = pd.read_excel(src_file)\n",
    "df.head(10)"
   ],
   "metadata": {
    "collapsed": false,
    "pycharm": {
     "name": "#%%\n"
    }
   }
  },
  {
   "cell_type": "code",
   "execution_count": 3,
   "outputs": [
    {
     "data": {
      "text/plain": "0      False\n1      False\n2      False\n3      False\n4      False\n       ...  \n995     True\n996     True\n997    False\n998    False\n999    False\nName: company, Length: 1000, dtype: bool"
     },
     "execution_count": 3,
     "metadata": {},
     "output_type": "execute_result"
    }
   ],
   "source": [
    "viva = df['company'] == 'Viva'\n",
    "viva"
   ],
   "metadata": {
    "collapsed": false,
    "pycharm": {
     "name": "#%%\n"
    }
   }
  },
  {
   "cell_type": "code",
   "execution_count": 4,
   "outputs": [
    {
     "data": {
      "text/plain": "       invoice company purchase_date    sku product  quantity  price  \\\n186  CM-205-86    Viva    2019-05-19  E-327    book         8     14   \n705  QU-986-45    Viva    2019-06-09  H-966    book         6     35   \n840  RF-796-61    Viva    2019-02-19  S-393  poster        46     16   \n995  ZM-628-88    Viva    2019-09-11  B-B-5     pen        -5     34   \n996  DQ-810-46    Viva    2019-09-05  M-B-5     pen        17     32   \n\n     extended amount  shipping_cost  \n186              112           2.24  \n705              210           4.20  \n840              736          14.72  \n995             -170           0.00  \n996              544          10.88  ",
      "text/html": "<div>\n<style scoped>\n    .dataframe tbody tr th:only-of-type {\n        vertical-align: middle;\n    }\n\n    .dataframe tbody tr th {\n        vertical-align: top;\n    }\n\n    .dataframe thead th {\n        text-align: right;\n    }\n</style>\n<table border=\"1\" class=\"dataframe\">\n  <thead>\n    <tr style=\"text-align: right;\">\n      <th></th>\n      <th>invoice</th>\n      <th>company</th>\n      <th>purchase_date</th>\n      <th>sku</th>\n      <th>product</th>\n      <th>quantity</th>\n      <th>price</th>\n      <th>extended amount</th>\n      <th>shipping_cost</th>\n    </tr>\n  </thead>\n  <tbody>\n    <tr>\n      <th>186</th>\n      <td>CM-205-86</td>\n      <td>Viva</td>\n      <td>2019-05-19</td>\n      <td>E-327</td>\n      <td>book</td>\n      <td>8</td>\n      <td>14</td>\n      <td>112</td>\n      <td>2.24</td>\n    </tr>\n    <tr>\n      <th>705</th>\n      <td>QU-986-45</td>\n      <td>Viva</td>\n      <td>2019-06-09</td>\n      <td>H-966</td>\n      <td>book</td>\n      <td>6</td>\n      <td>35</td>\n      <td>210</td>\n      <td>4.20</td>\n    </tr>\n    <tr>\n      <th>840</th>\n      <td>RF-796-61</td>\n      <td>Viva</td>\n      <td>2019-02-19</td>\n      <td>S-393</td>\n      <td>poster</td>\n      <td>46</td>\n      <td>16</td>\n      <td>736</td>\n      <td>14.72</td>\n    </tr>\n    <tr>\n      <th>995</th>\n      <td>ZM-628-88</td>\n      <td>Viva</td>\n      <td>2019-09-11</td>\n      <td>B-B-5</td>\n      <td>pen</td>\n      <td>-5</td>\n      <td>34</td>\n      <td>-170</td>\n      <td>0.00</td>\n    </tr>\n    <tr>\n      <th>996</th>\n      <td>DQ-810-46</td>\n      <td>Viva</td>\n      <td>2019-09-05</td>\n      <td>M-B-5</td>\n      <td>pen</td>\n      <td>17</td>\n      <td>32</td>\n      <td>544</td>\n      <td>10.88</td>\n    </tr>\n  </tbody>\n</table>\n</div>"
     },
     "execution_count": 4,
     "metadata": {},
     "output_type": "execute_result"
    }
   ],
   "source": [
    "df.loc[viva, :]\n"
   ],
   "metadata": {
    "collapsed": false,
    "pycharm": {
     "name": "#%%\n"
    }
   }
  },
  {
   "cell_type": "code",
   "execution_count": 5,
   "outputs": [
    {
     "data": {
      "text/plain": "       invoice company purchase_date    sku product  quantity  price  \\\n186  CM-205-86    Viva    2019-05-19  E-327    book         8     14   \n705  QU-986-45    Viva    2019-06-09  H-966    book         6     35   \n840  RF-796-61    Viva    2019-02-19  S-393  poster        46     16   \n995  ZM-628-88    Viva    2019-09-11  B-B-5     pen        -5     34   \n996  DQ-810-46    Viva    2019-09-05  M-B-5     pen        17     32   \n\n     extended amount  shipping_cost  \n186              112           2.24  \n705              210           4.20  \n840              736          14.72  \n995             -170           0.00  \n996              544          10.88  ",
      "text/html": "<div>\n<style scoped>\n    .dataframe tbody tr th:only-of-type {\n        vertical-align: middle;\n    }\n\n    .dataframe tbody tr th {\n        vertical-align: top;\n    }\n\n    .dataframe thead th {\n        text-align: right;\n    }\n</style>\n<table border=\"1\" class=\"dataframe\">\n  <thead>\n    <tr style=\"text-align: right;\">\n      <th></th>\n      <th>invoice</th>\n      <th>company</th>\n      <th>purchase_date</th>\n      <th>sku</th>\n      <th>product</th>\n      <th>quantity</th>\n      <th>price</th>\n      <th>extended amount</th>\n      <th>shipping_cost</th>\n    </tr>\n  </thead>\n  <tbody>\n    <tr>\n      <th>186</th>\n      <td>CM-205-86</td>\n      <td>Viva</td>\n      <td>2019-05-19</td>\n      <td>E-327</td>\n      <td>book</td>\n      <td>8</td>\n      <td>14</td>\n      <td>112</td>\n      <td>2.24</td>\n    </tr>\n    <tr>\n      <th>705</th>\n      <td>QU-986-45</td>\n      <td>Viva</td>\n      <td>2019-06-09</td>\n      <td>H-966</td>\n      <td>book</td>\n      <td>6</td>\n      <td>35</td>\n      <td>210</td>\n      <td>4.20</td>\n    </tr>\n    <tr>\n      <th>840</th>\n      <td>RF-796-61</td>\n      <td>Viva</td>\n      <td>2019-02-19</td>\n      <td>S-393</td>\n      <td>poster</td>\n      <td>46</td>\n      <td>16</td>\n      <td>736</td>\n      <td>14.72</td>\n    </tr>\n    <tr>\n      <th>995</th>\n      <td>ZM-628-88</td>\n      <td>Viva</td>\n      <td>2019-09-11</td>\n      <td>B-B-5</td>\n      <td>pen</td>\n      <td>-5</td>\n      <td>34</td>\n      <td>-170</td>\n      <td>0.00</td>\n    </tr>\n    <tr>\n      <th>996</th>\n      <td>DQ-810-46</td>\n      <td>Viva</td>\n      <td>2019-09-05</td>\n      <td>M-B-5</td>\n      <td>pen</td>\n      <td>17</td>\n      <td>32</td>\n      <td>544</td>\n      <td>10.88</td>\n    </tr>\n  </tbody>\n</table>\n</div>"
     },
     "execution_count": 5,
     "metadata": {},
     "output_type": "execute_result"
    }
   ],
   "source": [
    "df[viva]\n"
   ],
   "metadata": {
    "collapsed": false,
    "pycharm": {
     "name": "#%%\n"
    }
   }
  },
  {
   "cell_type": "code",
   "execution_count": 6,
   "outputs": [
    {
     "data": {
      "text/plain": "0       True\n1       True\n2      False\n3      False\n4       True\n       ...  \n995    False\n996     True\n997     True\n998     True\n999     True\nName: quantity, Length: 1000, dtype: bool"
     },
     "execution_count": 6,
     "metadata": {},
     "output_type": "execute_result"
    }
   ],
   "source": [
    "qty_10 = (df['quantity'] >= 10)\n",
    "qty_10\n"
   ],
   "metadata": {
    "collapsed": false,
    "pycharm": {
     "name": "#%%\n"
    }
   }
  },
  {
   "cell_type": "code",
   "execution_count": 7,
   "outputs": [
    {
     "data": {
      "text/plain": "       invoice company purchase_date    sku product  quantity  price  \\\n840  RF-796-61    Viva    2019-02-19  S-393  poster        46     16   \n996  DQ-810-46    Viva    2019-09-05  M-B-5     pen        17     32   \n\n     extended amount  shipping_cost  \n840              736          14.72  \n996              544          10.88  ",
      "text/html": "<div>\n<style scoped>\n    .dataframe tbody tr th:only-of-type {\n        vertical-align: middle;\n    }\n\n    .dataframe tbody tr th {\n        vertical-align: top;\n    }\n\n    .dataframe thead th {\n        text-align: right;\n    }\n</style>\n<table border=\"1\" class=\"dataframe\">\n  <thead>\n    <tr style=\"text-align: right;\">\n      <th></th>\n      <th>invoice</th>\n      <th>company</th>\n      <th>purchase_date</th>\n      <th>sku</th>\n      <th>product</th>\n      <th>quantity</th>\n      <th>price</th>\n      <th>extended amount</th>\n      <th>shipping_cost</th>\n    </tr>\n  </thead>\n  <tbody>\n    <tr>\n      <th>840</th>\n      <td>RF-796-61</td>\n      <td>Viva</td>\n      <td>2019-02-19</td>\n      <td>S-393</td>\n      <td>poster</td>\n      <td>46</td>\n      <td>16</td>\n      <td>736</td>\n      <td>14.72</td>\n    </tr>\n    <tr>\n      <th>996</th>\n      <td>DQ-810-46</td>\n      <td>Viva</td>\n      <td>2019-09-05</td>\n      <td>M-B-5</td>\n      <td>pen</td>\n      <td>17</td>\n      <td>32</td>\n      <td>544</td>\n      <td>10.88</td>\n    </tr>\n  </tbody>\n</table>\n</div>"
     },
     "execution_count": 7,
     "metadata": {},
     "output_type": "execute_result"
    }
   ],
   "source": [
    "df.loc[(qty_10 & viva), :]\n"
   ],
   "metadata": {
    "collapsed": false,
    "pycharm": {
     "name": "#%%\n"
    }
   }
  },
  {
   "cell_type": "code",
   "execution_count": 8,
   "outputs": [
    {
     "data": {
      "text/plain": "shirt     122\nposter    107\nName: product, dtype: int64"
     },
     "execution_count": 8,
     "metadata": {},
     "output_type": "execute_result"
    }
   ],
   "source": [
    "df.loc[df['sku'].str.startswith('S'), 'product'].value_counts()"
   ],
   "metadata": {
    "collapsed": false,
    "pycharm": {
     "name": "#%%\n"
    }
   }
  },
  {
   "cell_type": "markdown",
   "source": [
    "### Working with Dates"
   ],
   "metadata": {
    "collapsed": false,
    "pycharm": {
     "name": "#%% md\n"
    }
   }
  },
  {
   "cell_type": "code",
   "execution_count": 9,
   "outputs": [
    {
     "data": {
      "text/plain": "       invoice     company purchase_date     sku product  quantity  price  \\\n32   MX-599-18       Vimbo    2019-12-12   P-393    book        36     33   \n33   NN-163-23      Skyble    2019-12-27   M-B-5     pen        45     12   \n34   FP-453-25        Zava    2019-12-05   S-393  poster         0     13   \n54   SI-328-34  Babbleblab    2019-12-13  M-G-21   shirt         3     34   \n57   JF-213-00    Centimia    2019-12-22   B-B-5     pen         6     17   \n..         ...         ...           ...     ...     ...       ...    ...   \n951  HY-069-99         Oba    2019-12-12   M-271  poster        18     25   \n956  WO-091-32        Eire    2019-12-05  M-G-21   shirt        15     20   \n966  FO-483-27     Cogibox    2019-12-10   S-909  poster        25     15   \n985  DX-716-83       Aimbo    2019-12-17   M-B-5     pen        38     15   \n998  VT-754-54   Photobean    2019-12-30  L-G-31   shirt        15     18   \n\n     extended amount  shipping_cost  \n32              1188          23.76  \n33               540          10.80  \n34                 0           0.00  \n54               102           2.04  \n57               102           2.04  \n..               ...            ...  \n951              450           9.00  \n956              300           6.00  \n966              375           7.50  \n985              570          11.40  \n998              270           5.40  \n\n[86 rows x 9 columns]",
      "text/html": "<div>\n<style scoped>\n    .dataframe tbody tr th:only-of-type {\n        vertical-align: middle;\n    }\n\n    .dataframe tbody tr th {\n        vertical-align: top;\n    }\n\n    .dataframe thead th {\n        text-align: right;\n    }\n</style>\n<table border=\"1\" class=\"dataframe\">\n  <thead>\n    <tr style=\"text-align: right;\">\n      <th></th>\n      <th>invoice</th>\n      <th>company</th>\n      <th>purchase_date</th>\n      <th>sku</th>\n      <th>product</th>\n      <th>quantity</th>\n      <th>price</th>\n      <th>extended amount</th>\n      <th>shipping_cost</th>\n    </tr>\n  </thead>\n  <tbody>\n    <tr>\n      <th>32</th>\n      <td>MX-599-18</td>\n      <td>Vimbo</td>\n      <td>2019-12-12</td>\n      <td>P-393</td>\n      <td>book</td>\n      <td>36</td>\n      <td>33</td>\n      <td>1188</td>\n      <td>23.76</td>\n    </tr>\n    <tr>\n      <th>33</th>\n      <td>NN-163-23</td>\n      <td>Skyble</td>\n      <td>2019-12-27</td>\n      <td>M-B-5</td>\n      <td>pen</td>\n      <td>45</td>\n      <td>12</td>\n      <td>540</td>\n      <td>10.80</td>\n    </tr>\n    <tr>\n      <th>34</th>\n      <td>FP-453-25</td>\n      <td>Zava</td>\n      <td>2019-12-05</td>\n      <td>S-393</td>\n      <td>poster</td>\n      <td>0</td>\n      <td>13</td>\n      <td>0</td>\n      <td>0.00</td>\n    </tr>\n    <tr>\n      <th>54</th>\n      <td>SI-328-34</td>\n      <td>Babbleblab</td>\n      <td>2019-12-13</td>\n      <td>M-G-21</td>\n      <td>shirt</td>\n      <td>3</td>\n      <td>34</td>\n      <td>102</td>\n      <td>2.04</td>\n    </tr>\n    <tr>\n      <th>57</th>\n      <td>JF-213-00</td>\n      <td>Centimia</td>\n      <td>2019-12-22</td>\n      <td>B-B-5</td>\n      <td>pen</td>\n      <td>6</td>\n      <td>17</td>\n      <td>102</td>\n      <td>2.04</td>\n    </tr>\n    <tr>\n      <th>...</th>\n      <td>...</td>\n      <td>...</td>\n      <td>...</td>\n      <td>...</td>\n      <td>...</td>\n      <td>...</td>\n      <td>...</td>\n      <td>...</td>\n      <td>...</td>\n    </tr>\n    <tr>\n      <th>951</th>\n      <td>HY-069-99</td>\n      <td>Oba</td>\n      <td>2019-12-12</td>\n      <td>M-271</td>\n      <td>poster</td>\n      <td>18</td>\n      <td>25</td>\n      <td>450</td>\n      <td>9.00</td>\n    </tr>\n    <tr>\n      <th>956</th>\n      <td>WO-091-32</td>\n      <td>Eire</td>\n      <td>2019-12-05</td>\n      <td>M-G-21</td>\n      <td>shirt</td>\n      <td>15</td>\n      <td>20</td>\n      <td>300</td>\n      <td>6.00</td>\n    </tr>\n    <tr>\n      <th>966</th>\n      <td>FO-483-27</td>\n      <td>Cogibox</td>\n      <td>2019-12-10</td>\n      <td>S-909</td>\n      <td>poster</td>\n      <td>25</td>\n      <td>15</td>\n      <td>375</td>\n      <td>7.50</td>\n    </tr>\n    <tr>\n      <th>985</th>\n      <td>DX-716-83</td>\n      <td>Aimbo</td>\n      <td>2019-12-17</td>\n      <td>M-B-5</td>\n      <td>pen</td>\n      <td>38</td>\n      <td>15</td>\n      <td>570</td>\n      <td>11.40</td>\n    </tr>\n    <tr>\n      <th>998</th>\n      <td>VT-754-54</td>\n      <td>Photobean</td>\n      <td>2019-12-30</td>\n      <td>L-G-31</td>\n      <td>shirt</td>\n      <td>15</td>\n      <td>18</td>\n      <td>270</td>\n      <td>5.40</td>\n    </tr>\n  </tbody>\n</table>\n<p>86 rows × 9 columns</p>\n</div>"
     },
     "execution_count": 9,
     "metadata": {},
     "output_type": "execute_result"
    }
   ],
   "source": [
    "df[df['purchase_date'] >= '12-1-2019']"
   ],
   "metadata": {
    "collapsed": false,
    "pycharm": {
     "name": "#%%\n"
    }
   }
  },
  {
   "cell_type": "code",
   "execution_count": 10,
   "outputs": [
    {
     "data": {
      "text/plain": "       invoice   company purchase_date    sku product  quantity  price  \\\n16   IG-811-84     Yadel    2019-11-15  H-475    book        46     28   \n51   MM-603-72  Snaptags    2019-11-14  P-944    book        13     25   \n67   DB-217-08   Dynabox    2019-11-17  E-327    book        17     26   \n77   TL-625-84  Snaptags    2019-11-02  H-966    book        28     33   \n148  UE-108-04      Yodo    2019-11-24  P-343    book        29     27   \n194  CP-917-92     Kamba    2019-11-13  E-777    book        41     16   \n248  LZ-428-00  Photojam    2019-11-22  H-966    book         0     25   \n303  PE-226-53   Gabvine    2019-11-22  P-393    book        19     18   \n338  EP-683-72     Npath    2019-11-22  E-961    book         1     15   \n528  QP-747-38     Ainyx    2019-11-19  P-293    book         9     31   \n554  IK-877-78      Eayo    2019-11-04  H-475    book        19     28   \n555  OJ-368-07   Devcast    2019-11-11  E-992    book        36     11   \n576  RS-914-89    Skyndu    2019-11-13  H-475    book        -1     17   \n590  OQ-663-81      Muxo    2019-11-10  P-460    book         1     11   \n660  ZC-675-39    Skinix    2019-11-26  E-368    book        22     29   \n750  UK-253-68    Leenti    2019-11-02  P-942    book        18     22   \n790  IO-056-62    Yambee    2019-11-09  P-944    book        42     18   \n795  VY-434-82    Oyondu    2019-11-24  P-343    book         8     27   \n805  PS-970-82   Gigabox    2019-11-16  E-201    book        19     28   \n846  HB-316-64    Vinder    2019-11-25  P-944    book         0     25   \n908  CB-260-83  Livepath    2019-11-11  P-942    book        20     27   \n931  CJ-981-24     Skyba    2019-11-01  P-293    book        28     23   \n932  CO-837-17  Dabshots    2019-11-19  H-475    book        50     24   \n\n     extended amount  shipping_cost  \n16              1288          25.76  \n51               325           6.50  \n67               442           8.84  \n77               924          18.48  \n148              783          15.66  \n194              656          13.12  \n248                0           0.00  \n303              342           6.84  \n338               15           0.30  \n528              279           5.58  \n554              532          10.64  \n555              396           7.92  \n576              -17           0.00  \n590               11           0.22  \n660              638          12.76  \n750              396           7.92  \n790              756          15.12  \n795              216           4.32  \n805              532          10.64  \n846                0           0.00  \n908              540          10.80  \n931              644          12.88  \n932             1200          24.00  ",
      "text/html": "<div>\n<style scoped>\n    .dataframe tbody tr th:only-of-type {\n        vertical-align: middle;\n    }\n\n    .dataframe tbody tr th {\n        vertical-align: top;\n    }\n\n    .dataframe thead th {\n        text-align: right;\n    }\n</style>\n<table border=\"1\" class=\"dataframe\">\n  <thead>\n    <tr style=\"text-align: right;\">\n      <th></th>\n      <th>invoice</th>\n      <th>company</th>\n      <th>purchase_date</th>\n      <th>sku</th>\n      <th>product</th>\n      <th>quantity</th>\n      <th>price</th>\n      <th>extended amount</th>\n      <th>shipping_cost</th>\n    </tr>\n  </thead>\n  <tbody>\n    <tr>\n      <th>16</th>\n      <td>IG-811-84</td>\n      <td>Yadel</td>\n      <td>2019-11-15</td>\n      <td>H-475</td>\n      <td>book</td>\n      <td>46</td>\n      <td>28</td>\n      <td>1288</td>\n      <td>25.76</td>\n    </tr>\n    <tr>\n      <th>51</th>\n      <td>MM-603-72</td>\n      <td>Snaptags</td>\n      <td>2019-11-14</td>\n      <td>P-944</td>\n      <td>book</td>\n      <td>13</td>\n      <td>25</td>\n      <td>325</td>\n      <td>6.50</td>\n    </tr>\n    <tr>\n      <th>67</th>\n      <td>DB-217-08</td>\n      <td>Dynabox</td>\n      <td>2019-11-17</td>\n      <td>E-327</td>\n      <td>book</td>\n      <td>17</td>\n      <td>26</td>\n      <td>442</td>\n      <td>8.84</td>\n    </tr>\n    <tr>\n      <th>77</th>\n      <td>TL-625-84</td>\n      <td>Snaptags</td>\n      <td>2019-11-02</td>\n      <td>H-966</td>\n      <td>book</td>\n      <td>28</td>\n      <td>33</td>\n      <td>924</td>\n      <td>18.48</td>\n    </tr>\n    <tr>\n      <th>148</th>\n      <td>UE-108-04</td>\n      <td>Yodo</td>\n      <td>2019-11-24</td>\n      <td>P-343</td>\n      <td>book</td>\n      <td>29</td>\n      <td>27</td>\n      <td>783</td>\n      <td>15.66</td>\n    </tr>\n    <tr>\n      <th>194</th>\n      <td>CP-917-92</td>\n      <td>Kamba</td>\n      <td>2019-11-13</td>\n      <td>E-777</td>\n      <td>book</td>\n      <td>41</td>\n      <td>16</td>\n      <td>656</td>\n      <td>13.12</td>\n    </tr>\n    <tr>\n      <th>248</th>\n      <td>LZ-428-00</td>\n      <td>Photojam</td>\n      <td>2019-11-22</td>\n      <td>H-966</td>\n      <td>book</td>\n      <td>0</td>\n      <td>25</td>\n      <td>0</td>\n      <td>0.00</td>\n    </tr>\n    <tr>\n      <th>303</th>\n      <td>PE-226-53</td>\n      <td>Gabvine</td>\n      <td>2019-11-22</td>\n      <td>P-393</td>\n      <td>book</td>\n      <td>19</td>\n      <td>18</td>\n      <td>342</td>\n      <td>6.84</td>\n    </tr>\n    <tr>\n      <th>338</th>\n      <td>EP-683-72</td>\n      <td>Npath</td>\n      <td>2019-11-22</td>\n      <td>E-961</td>\n      <td>book</td>\n      <td>1</td>\n      <td>15</td>\n      <td>15</td>\n      <td>0.30</td>\n    </tr>\n    <tr>\n      <th>528</th>\n      <td>QP-747-38</td>\n      <td>Ainyx</td>\n      <td>2019-11-19</td>\n      <td>P-293</td>\n      <td>book</td>\n      <td>9</td>\n      <td>31</td>\n      <td>279</td>\n      <td>5.58</td>\n    </tr>\n    <tr>\n      <th>554</th>\n      <td>IK-877-78</td>\n      <td>Eayo</td>\n      <td>2019-11-04</td>\n      <td>H-475</td>\n      <td>book</td>\n      <td>19</td>\n      <td>28</td>\n      <td>532</td>\n      <td>10.64</td>\n    </tr>\n    <tr>\n      <th>555</th>\n      <td>OJ-368-07</td>\n      <td>Devcast</td>\n      <td>2019-11-11</td>\n      <td>E-992</td>\n      <td>book</td>\n      <td>36</td>\n      <td>11</td>\n      <td>396</td>\n      <td>7.92</td>\n    </tr>\n    <tr>\n      <th>576</th>\n      <td>RS-914-89</td>\n      <td>Skyndu</td>\n      <td>2019-11-13</td>\n      <td>H-475</td>\n      <td>book</td>\n      <td>-1</td>\n      <td>17</td>\n      <td>-17</td>\n      <td>0.00</td>\n    </tr>\n    <tr>\n      <th>590</th>\n      <td>OQ-663-81</td>\n      <td>Muxo</td>\n      <td>2019-11-10</td>\n      <td>P-460</td>\n      <td>book</td>\n      <td>1</td>\n      <td>11</td>\n      <td>11</td>\n      <td>0.22</td>\n    </tr>\n    <tr>\n      <th>660</th>\n      <td>ZC-675-39</td>\n      <td>Skinix</td>\n      <td>2019-11-26</td>\n      <td>E-368</td>\n      <td>book</td>\n      <td>22</td>\n      <td>29</td>\n      <td>638</td>\n      <td>12.76</td>\n    </tr>\n    <tr>\n      <th>750</th>\n      <td>UK-253-68</td>\n      <td>Leenti</td>\n      <td>2019-11-02</td>\n      <td>P-942</td>\n      <td>book</td>\n      <td>18</td>\n      <td>22</td>\n      <td>396</td>\n      <td>7.92</td>\n    </tr>\n    <tr>\n      <th>790</th>\n      <td>IO-056-62</td>\n      <td>Yambee</td>\n      <td>2019-11-09</td>\n      <td>P-944</td>\n      <td>book</td>\n      <td>42</td>\n      <td>18</td>\n      <td>756</td>\n      <td>15.12</td>\n    </tr>\n    <tr>\n      <th>795</th>\n      <td>VY-434-82</td>\n      <td>Oyondu</td>\n      <td>2019-11-24</td>\n      <td>P-343</td>\n      <td>book</td>\n      <td>8</td>\n      <td>27</td>\n      <td>216</td>\n      <td>4.32</td>\n    </tr>\n    <tr>\n      <th>805</th>\n      <td>PS-970-82</td>\n      <td>Gigabox</td>\n      <td>2019-11-16</td>\n      <td>E-201</td>\n      <td>book</td>\n      <td>19</td>\n      <td>28</td>\n      <td>532</td>\n      <td>10.64</td>\n    </tr>\n    <tr>\n      <th>846</th>\n      <td>HB-316-64</td>\n      <td>Vinder</td>\n      <td>2019-11-25</td>\n      <td>P-944</td>\n      <td>book</td>\n      <td>0</td>\n      <td>25</td>\n      <td>0</td>\n      <td>0.00</td>\n    </tr>\n    <tr>\n      <th>908</th>\n      <td>CB-260-83</td>\n      <td>Livepath</td>\n      <td>2019-11-11</td>\n      <td>P-942</td>\n      <td>book</td>\n      <td>20</td>\n      <td>27</td>\n      <td>540</td>\n      <td>10.80</td>\n    </tr>\n    <tr>\n      <th>931</th>\n      <td>CJ-981-24</td>\n      <td>Skyba</td>\n      <td>2019-11-01</td>\n      <td>P-293</td>\n      <td>book</td>\n      <td>28</td>\n      <td>23</td>\n      <td>644</td>\n      <td>12.88</td>\n    </tr>\n    <tr>\n      <th>932</th>\n      <td>CO-837-17</td>\n      <td>Dabshots</td>\n      <td>2019-11-19</td>\n      <td>H-475</td>\n      <td>book</td>\n      <td>50</td>\n      <td>24</td>\n      <td>1200</td>\n      <td>24.00</td>\n    </tr>\n  </tbody>\n</table>\n</div>"
     },
     "execution_count": 10,
     "metadata": {},
     "output_type": "execute_result"
    }
   ],
   "source": [
    "purchase_date = df['purchase_date'].dt.month == 11\n",
    "product_type = df['product'] == 'book'\n",
    "\n",
    "df[purchase_date & product_type]"
   ],
   "metadata": {
    "collapsed": false,
    "pycharm": {
     "name": "#%%\n"
    }
   }
  },
  {
   "cell_type": "code",
   "execution_count": 11,
   "outputs": [
    {
     "data": {
      "text/plain": "     invoice   company purchase_date     sku product  quantity  price  \\\n0  ZN-870-29  Realcube    2019-03-05  L-Y-71   shirt        19     17   \n1  JQ-501-63     Zooxo    2019-07-09   E-532    book        30     14   \n2  FI-165-58   Dabtype    2019-08-12   S-909  poster         7     23   \n3  XP-005-55  Skipfire    2019-11-18   B-B-5     pen         7     29   \n4  NB-917-18  Bluezoom    2019-04-18   L-477  poster        36     19   \n\n   extended amount  shipping_cost  min_order_size  \n0              323           6.46               5  \n1              420           8.40               5  \n2              161           3.22               5  \n3              203           4.06               5  \n4              684          13.68               5  ",
      "text/html": "<div>\n<style scoped>\n    .dataframe tbody tr th:only-of-type {\n        vertical-align: middle;\n    }\n\n    .dataframe tbody tr th {\n        vertical-align: top;\n    }\n\n    .dataframe thead th {\n        text-align: right;\n    }\n</style>\n<table border=\"1\" class=\"dataframe\">\n  <thead>\n    <tr style=\"text-align: right;\">\n      <th></th>\n      <th>invoice</th>\n      <th>company</th>\n      <th>purchase_date</th>\n      <th>sku</th>\n      <th>product</th>\n      <th>quantity</th>\n      <th>price</th>\n      <th>extended amount</th>\n      <th>shipping_cost</th>\n      <th>min_order_size</th>\n    </tr>\n  </thead>\n  <tbody>\n    <tr>\n      <th>0</th>\n      <td>ZN-870-29</td>\n      <td>Realcube</td>\n      <td>2019-03-05</td>\n      <td>L-Y-71</td>\n      <td>shirt</td>\n      <td>19</td>\n      <td>17</td>\n      <td>323</td>\n      <td>6.46</td>\n      <td>5</td>\n    </tr>\n    <tr>\n      <th>1</th>\n      <td>JQ-501-63</td>\n      <td>Zooxo</td>\n      <td>2019-07-09</td>\n      <td>E-532</td>\n      <td>book</td>\n      <td>30</td>\n      <td>14</td>\n      <td>420</td>\n      <td>8.40</td>\n      <td>5</td>\n    </tr>\n    <tr>\n      <th>2</th>\n      <td>FI-165-58</td>\n      <td>Dabtype</td>\n      <td>2019-08-12</td>\n      <td>S-909</td>\n      <td>poster</td>\n      <td>7</td>\n      <td>23</td>\n      <td>161</td>\n      <td>3.22</td>\n      <td>5</td>\n    </tr>\n    <tr>\n      <th>3</th>\n      <td>XP-005-55</td>\n      <td>Skipfire</td>\n      <td>2019-11-18</td>\n      <td>B-B-5</td>\n      <td>pen</td>\n      <td>7</td>\n      <td>29</td>\n      <td>203</td>\n      <td>4.06</td>\n      <td>5</td>\n    </tr>\n    <tr>\n      <th>4</th>\n      <td>NB-917-18</td>\n      <td>Bluezoom</td>\n      <td>2019-04-18</td>\n      <td>L-477</td>\n      <td>poster</td>\n      <td>36</td>\n      <td>19</td>\n      <td>684</td>\n      <td>13.68</td>\n      <td>5</td>\n    </tr>\n  </tbody>\n</table>\n</div>"
     },
     "execution_count": 11,
     "metadata": {},
     "output_type": "execute_result"
    }
   ],
   "source": [
    "df['min_order_size'] = 5\n",
    "df.head()"
   ],
   "metadata": {
    "collapsed": false,
    "pycharm": {
     "name": "#%%\n"
    }
   }
  },
  {
   "cell_type": "code",
   "execution_count": 12,
   "outputs": [
    {
     "data": {
      "text/plain": "        company purchase_date     sku product\n5        Zooveo    2019-10-17  B-BK-5     pen\n8      Buzzbean    2019-06-17   S-393  poster\n19   Babbleblab    2019-10-23  M-G-21   shirt\n24        Mynte    2019-11-25  M-BK-5     pen\n27         DabZ    2019-01-23   M-B-5     pen\n..          ...           ...     ...     ...\n980       Roomm    2019-09-23   B-B-1     pen\n981     Dabfeed    2019-03-25   M-271  poster\n984   Reallinks    2019-06-24  M-BK-5     pen\n986       Jamia    2019-11-06  L-G-13   shirt\n995        Viva    2019-09-11   B-B-5     pen\n\n[176 rows x 4 columns]",
      "text/html": "<div>\n<style scoped>\n    .dataframe tbody tr th:only-of-type {\n        vertical-align: middle;\n    }\n\n    .dataframe tbody tr th {\n        vertical-align: top;\n    }\n\n    .dataframe thead th {\n        text-align: right;\n    }\n</style>\n<table border=\"1\" class=\"dataframe\">\n  <thead>\n    <tr style=\"text-align: right;\">\n      <th></th>\n      <th>company</th>\n      <th>purchase_date</th>\n      <th>sku</th>\n      <th>product</th>\n    </tr>\n  </thead>\n  <tbody>\n    <tr>\n      <th>5</th>\n      <td>Zooveo</td>\n      <td>2019-10-17</td>\n      <td>B-BK-5</td>\n      <td>pen</td>\n    </tr>\n    <tr>\n      <th>8</th>\n      <td>Buzzbean</td>\n      <td>2019-06-17</td>\n      <td>S-393</td>\n      <td>poster</td>\n    </tr>\n    <tr>\n      <th>19</th>\n      <td>Babbleblab</td>\n      <td>2019-10-23</td>\n      <td>M-G-21</td>\n      <td>shirt</td>\n    </tr>\n    <tr>\n      <th>24</th>\n      <td>Mynte</td>\n      <td>2019-11-25</td>\n      <td>M-BK-5</td>\n      <td>pen</td>\n    </tr>\n    <tr>\n      <th>27</th>\n      <td>DabZ</td>\n      <td>2019-01-23</td>\n      <td>M-B-5</td>\n      <td>pen</td>\n    </tr>\n    <tr>\n      <th>...</th>\n      <td>...</td>\n      <td>...</td>\n      <td>...</td>\n      <td>...</td>\n    </tr>\n    <tr>\n      <th>980</th>\n      <td>Roomm</td>\n      <td>2019-09-23</td>\n      <td>B-B-1</td>\n      <td>pen</td>\n    </tr>\n    <tr>\n      <th>981</th>\n      <td>Dabfeed</td>\n      <td>2019-03-25</td>\n      <td>M-271</td>\n      <td>poster</td>\n    </tr>\n    <tr>\n      <th>984</th>\n      <td>Reallinks</td>\n      <td>2019-06-24</td>\n      <td>M-BK-5</td>\n      <td>pen</td>\n    </tr>\n    <tr>\n      <th>986</th>\n      <td>Jamia</td>\n      <td>2019-11-06</td>\n      <td>L-G-13</td>\n      <td>shirt</td>\n    </tr>\n    <tr>\n      <th>995</th>\n      <td>Viva</td>\n      <td>2019-09-11</td>\n      <td>B-B-5</td>\n      <td>pen</td>\n    </tr>\n  </tbody>\n</table>\n<p>176 rows × 4 columns</p>\n</div>"
     },
     "execution_count": 12,
     "metadata": {},
     "output_type": "execute_result"
    }
   ],
   "source": [
    "small_orders = df['quantity'] < df['min_order_size']\n",
    "df.loc[small_orders, 'company':'product']"
   ],
   "metadata": {
    "collapsed": false,
    "pycharm": {
     "name": "#%%\n"
    }
   }
  },
  {
   "cell_type": "code",
   "execution_count": 13,
   "outputs": [
    {
     "data": {
      "text/plain": "       invoice    company purchase_date     sku product  quantity  price  \\\n0    ZN-870-29   Realcube    2019-03-05  L-Y-71   shirt        19     17   \n1    JQ-501-63      Zooxo    2019-07-09   E-532    book        30     14   \n4    NB-917-18   Bluezoom    2019-04-18   L-477  poster        36     19   \n6    MQ-907-02  Babbleset    2019-10-27   L-579  poster        30     21   \n7    NX-102-26   Fliptune    2019-10-16   E-201    book        40     28   \n..         ...        ...           ...     ...     ...       ...    ...   \n994  ON-247-90   Photobug    2019-09-29  L-G-13   shirt        40     31   \n996  DQ-810-46       Viva    2019-09-05   M-B-5     pen        17     32   \n997  RA-147-40    Dabfeed    2019-03-24   M-809  poster        17     34   \n998  VT-754-54  Photobean    2019-12-30  L-G-31   shirt        15     18   \n999  LS-463-74     Mybuzz    2019-11-12  S-G-73   shirt        24     34   \n\n     extended amount  shipping_cost  min_order_size  \n0                323           6.46               5  \n1                420           8.40               5  \n4                684          13.68               5  \n6                630          12.60               5  \n7               1120          22.40               5  \n..               ...            ...             ...  \n994             1240          24.80               5  \n996              544          10.88               5  \n997              578          11.56               5  \n998              270           5.40               5  \n999              816          16.32               5  \n\n[716 rows x 10 columns]",
      "text/html": "<div>\n<style scoped>\n    .dataframe tbody tr th:only-of-type {\n        vertical-align: middle;\n    }\n\n    .dataframe tbody tr th {\n        vertical-align: top;\n    }\n\n    .dataframe thead th {\n        text-align: right;\n    }\n</style>\n<table border=\"1\" class=\"dataframe\">\n  <thead>\n    <tr style=\"text-align: right;\">\n      <th></th>\n      <th>invoice</th>\n      <th>company</th>\n      <th>purchase_date</th>\n      <th>sku</th>\n      <th>product</th>\n      <th>quantity</th>\n      <th>price</th>\n      <th>extended amount</th>\n      <th>shipping_cost</th>\n      <th>min_order_size</th>\n    </tr>\n  </thead>\n  <tbody>\n    <tr>\n      <th>0</th>\n      <td>ZN-870-29</td>\n      <td>Realcube</td>\n      <td>2019-03-05</td>\n      <td>L-Y-71</td>\n      <td>shirt</td>\n      <td>19</td>\n      <td>17</td>\n      <td>323</td>\n      <td>6.46</td>\n      <td>5</td>\n    </tr>\n    <tr>\n      <th>1</th>\n      <td>JQ-501-63</td>\n      <td>Zooxo</td>\n      <td>2019-07-09</td>\n      <td>E-532</td>\n      <td>book</td>\n      <td>30</td>\n      <td>14</td>\n      <td>420</td>\n      <td>8.40</td>\n      <td>5</td>\n    </tr>\n    <tr>\n      <th>4</th>\n      <td>NB-917-18</td>\n      <td>Bluezoom</td>\n      <td>2019-04-18</td>\n      <td>L-477</td>\n      <td>poster</td>\n      <td>36</td>\n      <td>19</td>\n      <td>684</td>\n      <td>13.68</td>\n      <td>5</td>\n    </tr>\n    <tr>\n      <th>6</th>\n      <td>MQ-907-02</td>\n      <td>Babbleset</td>\n      <td>2019-10-27</td>\n      <td>L-579</td>\n      <td>poster</td>\n      <td>30</td>\n      <td>21</td>\n      <td>630</td>\n      <td>12.60</td>\n      <td>5</td>\n    </tr>\n    <tr>\n      <th>7</th>\n      <td>NX-102-26</td>\n      <td>Fliptune</td>\n      <td>2019-10-16</td>\n      <td>E-201</td>\n      <td>book</td>\n      <td>40</td>\n      <td>28</td>\n      <td>1120</td>\n      <td>22.40</td>\n      <td>5</td>\n    </tr>\n    <tr>\n      <th>...</th>\n      <td>...</td>\n      <td>...</td>\n      <td>...</td>\n      <td>...</td>\n      <td>...</td>\n      <td>...</td>\n      <td>...</td>\n      <td>...</td>\n      <td>...</td>\n      <td>...</td>\n    </tr>\n    <tr>\n      <th>994</th>\n      <td>ON-247-90</td>\n      <td>Photobug</td>\n      <td>2019-09-29</td>\n      <td>L-G-13</td>\n      <td>shirt</td>\n      <td>40</td>\n      <td>31</td>\n      <td>1240</td>\n      <td>24.80</td>\n      <td>5</td>\n    </tr>\n    <tr>\n      <th>996</th>\n      <td>DQ-810-46</td>\n      <td>Viva</td>\n      <td>2019-09-05</td>\n      <td>M-B-5</td>\n      <td>pen</td>\n      <td>17</td>\n      <td>32</td>\n      <td>544</td>\n      <td>10.88</td>\n      <td>5</td>\n    </tr>\n    <tr>\n      <th>997</th>\n      <td>RA-147-40</td>\n      <td>Dabfeed</td>\n      <td>2019-03-24</td>\n      <td>M-809</td>\n      <td>poster</td>\n      <td>17</td>\n      <td>34</td>\n      <td>578</td>\n      <td>11.56</td>\n      <td>5</td>\n    </tr>\n    <tr>\n      <th>998</th>\n      <td>VT-754-54</td>\n      <td>Photobean</td>\n      <td>2019-12-30</td>\n      <td>L-G-31</td>\n      <td>shirt</td>\n      <td>15</td>\n      <td>18</td>\n      <td>270</td>\n      <td>5.40</td>\n      <td>5</td>\n    </tr>\n    <tr>\n      <th>999</th>\n      <td>LS-463-74</td>\n      <td>Mybuzz</td>\n      <td>2019-11-12</td>\n      <td>S-G-73</td>\n      <td>shirt</td>\n      <td>24</td>\n      <td>34</td>\n      <td>816</td>\n      <td>16.32</td>\n      <td>5</td>\n    </tr>\n  </tbody>\n</table>\n<p>716 rows × 10 columns</p>\n</div>"
     },
     "execution_count": 13,
     "metadata": {},
     "output_type": "execute_result"
    }
   ],
   "source": [
    "# USE .loc --> .query() will be used for more advanced/ later purposes\n",
    "df.query('quantity > 10')"
   ],
   "metadata": {
    "collapsed": false,
    "pycharm": {
     "name": "#%%\n"
    }
   }
  },
  {
   "cell_type": "code",
   "execution_count": null,
   "outputs": [],
   "source": [],
   "metadata": {
    "collapsed": false,
    "pycharm": {
     "name": "#%%\n"
    }
   }
  }
 ],
 "metadata": {
  "kernelspec": {
   "display_name": "Python 3",
   "language": "python",
   "name": "python3"
  },
  "language_info": {
   "codemirror_mode": {
    "name": "ipython",
    "version": 2
   },
   "file_extension": ".py",
   "mimetype": "text/x-python",
   "name": "python",
   "nbconvert_exporter": "python",
   "pygments_lexer": "ipython2",
   "version": "2.7.6"
  }
 },
 "nbformat": 4,
 "nbformat_minor": 0
}