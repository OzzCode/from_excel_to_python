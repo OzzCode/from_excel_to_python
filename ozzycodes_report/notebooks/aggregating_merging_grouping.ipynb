{
 "cells": [
  {
   "cell_type": "markdown",
   "metadata": {
    "collapsed": true,
    "pycharm": {
     "name": "#%% md\n"
    }
   },
   "source": [
    "## Aggregating, Merging and Grouping Datasets\n"
   ]
  },
  {
   "cell_type": "markdown",
   "source": [
    "Aggregation of Data"
   ],
   "metadata": {
    "collapsed": false,
    "pycharm": {
     "name": "#%% md\n"
    }
   }
  },
  {
   "cell_type": "code",
   "execution_count": 1,
   "outputs": [],
   "source": [
    "import pandas as pd"
   ],
   "metadata": {
    "collapsed": false,
    "pycharm": {
     "name": "#%%\n"
    }
   }
  },
  {
   "cell_type": "code",
   "execution_count": 2,
   "outputs": [
    {
     "data": {
      "text/plain": "     invoice    company purchase_date      sku product  quantity  price  \\\n0  ZN-870-29   Realcube    2019-03-05   L-Y-71   shirt        19     17   \n1  JQ-501-63      Zooxo    2019-07-09    E-532    book        30     14   \n2  FI-165-58    Dabtype    2019-08-12    S-909  poster         7     23   \n3  XP-005-55   Skipfire    2019-11-18    B-B-5     pen         7     29   \n4  NB-917-18   Bluezoom    2019-04-18    L-477  poster        36     19   \n5  MI-696-11     Zooveo    2019-10-17   B-BK-5     pen        -1     30   \n6  MQ-907-02  Babbleset    2019-10-27    L-579  poster        30     21   \n7  NX-102-26   Fliptune    2019-10-16    E-201    book        40     28   \n8  LE-516-00   Buzzbean    2019-06-17    S-393  poster        -3     16   \n9  VD-518-20   Dabshots    2019-03-12  XL-B-12   shirt        19     28   \n\n   extended amount  shipping_cost  \n0              323           6.46  \n1              420           8.40  \n2              161           3.22  \n3              203           4.06  \n4              684          13.68  \n5              -30           0.00  \n6              630          12.60  \n7             1120          22.40  \n8              -48           0.00  \n9              532          10.64  ",
      "text/html": "<div>\n<style scoped>\n    .dataframe tbody tr th:only-of-type {\n        vertical-align: middle;\n    }\n\n    .dataframe tbody tr th {\n        vertical-align: top;\n    }\n\n    .dataframe thead th {\n        text-align: right;\n    }\n</style>\n<table border=\"1\" class=\"dataframe\">\n  <thead>\n    <tr style=\"text-align: right;\">\n      <th></th>\n      <th>invoice</th>\n      <th>company</th>\n      <th>purchase_date</th>\n      <th>sku</th>\n      <th>product</th>\n      <th>quantity</th>\n      <th>price</th>\n      <th>extended amount</th>\n      <th>shipping_cost</th>\n    </tr>\n  </thead>\n  <tbody>\n    <tr>\n      <th>0</th>\n      <td>ZN-870-29</td>\n      <td>Realcube</td>\n      <td>2019-03-05</td>\n      <td>L-Y-71</td>\n      <td>shirt</td>\n      <td>19</td>\n      <td>17</td>\n      <td>323</td>\n      <td>6.46</td>\n    </tr>\n    <tr>\n      <th>1</th>\n      <td>JQ-501-63</td>\n      <td>Zooxo</td>\n      <td>2019-07-09</td>\n      <td>E-532</td>\n      <td>book</td>\n      <td>30</td>\n      <td>14</td>\n      <td>420</td>\n      <td>8.40</td>\n    </tr>\n    <tr>\n      <th>2</th>\n      <td>FI-165-58</td>\n      <td>Dabtype</td>\n      <td>2019-08-12</td>\n      <td>S-909</td>\n      <td>poster</td>\n      <td>7</td>\n      <td>23</td>\n      <td>161</td>\n      <td>3.22</td>\n    </tr>\n    <tr>\n      <th>3</th>\n      <td>XP-005-55</td>\n      <td>Skipfire</td>\n      <td>2019-11-18</td>\n      <td>B-B-5</td>\n      <td>pen</td>\n      <td>7</td>\n      <td>29</td>\n      <td>203</td>\n      <td>4.06</td>\n    </tr>\n    <tr>\n      <th>4</th>\n      <td>NB-917-18</td>\n      <td>Bluezoom</td>\n      <td>2019-04-18</td>\n      <td>L-477</td>\n      <td>poster</td>\n      <td>36</td>\n      <td>19</td>\n      <td>684</td>\n      <td>13.68</td>\n    </tr>\n    <tr>\n      <th>5</th>\n      <td>MI-696-11</td>\n      <td>Zooveo</td>\n      <td>2019-10-17</td>\n      <td>B-BK-5</td>\n      <td>pen</td>\n      <td>-1</td>\n      <td>30</td>\n      <td>-30</td>\n      <td>0.00</td>\n    </tr>\n    <tr>\n      <th>6</th>\n      <td>MQ-907-02</td>\n      <td>Babbleset</td>\n      <td>2019-10-27</td>\n      <td>L-579</td>\n      <td>poster</td>\n      <td>30</td>\n      <td>21</td>\n      <td>630</td>\n      <td>12.60</td>\n    </tr>\n    <tr>\n      <th>7</th>\n      <td>NX-102-26</td>\n      <td>Fliptune</td>\n      <td>2019-10-16</td>\n      <td>E-201</td>\n      <td>book</td>\n      <td>40</td>\n      <td>28</td>\n      <td>1120</td>\n      <td>22.40</td>\n    </tr>\n    <tr>\n      <th>8</th>\n      <td>LE-516-00</td>\n      <td>Buzzbean</td>\n      <td>2019-06-17</td>\n      <td>S-393</td>\n      <td>poster</td>\n      <td>-3</td>\n      <td>16</td>\n      <td>-48</td>\n      <td>0.00</td>\n    </tr>\n    <tr>\n      <th>9</th>\n      <td>VD-518-20</td>\n      <td>Dabshots</td>\n      <td>2019-03-12</td>\n      <td>XL-B-12</td>\n      <td>shirt</td>\n      <td>19</td>\n      <td>28</td>\n      <td>532</td>\n      <td>10.64</td>\n    </tr>\n  </tbody>\n</table>\n</div>"
     },
     "execution_count": 2,
     "metadata": {},
     "output_type": "execute_result"
    }
   ],
   "source": [
    "src_file = '../data/raw/sample_sales_details.xlsx'\n",
    "df = pd.read_excel(src_file)\n",
    "df.head(10)"
   ],
   "metadata": {
    "collapsed": false,
    "pycharm": {
     "name": "#%%\n"
    }
   }
  },
  {
   "cell_type": "code",
   "execution_count": 5,
   "outputs": [
    {
     "data": {
      "text/plain": "mean    22.816000\nstd      7.537039\nmin     10.000000\nmax     35.000000\nName: price, dtype: float64"
     },
     "execution_count": 5,
     "metadata": {},
     "output_type": "execute_result"
    }
   ],
   "source": [
    "# Example of simple aggregation\n",
    "df['price'].agg(['mean', 'std', 'min', 'max'])"
   ],
   "metadata": {
    "collapsed": false,
    "pycharm": {
     "name": "#%%\n"
    }
   }
  },
  {
   "cell_type": "code",
   "execution_count": null,
   "outputs": [],
   "source": [
    "# Run on entire data frame\n",
    "df.agg(['mean', 'max'])"
   ],
   "metadata": {
    "collapsed": false,
    "pycharm": {
     "name": "#%%\n"
    }
   }
  },
  {
   "cell_type": "code",
   "execution_count": 8,
   "outputs": [
    {
     "data": {
      "text/plain": "       quantity      price  invoice  extended amount\ncount       0.0   0.000000   1000.0              0.0\nmean        0.0  22.816000      0.0              0.0\nstd         0.0   7.537039      0.0              0.0\nsum     22421.0   0.000000      0.0         510270.0",
      "text/html": "<div>\n<style scoped>\n    .dataframe tbody tr th:only-of-type {\n        vertical-align: middle;\n    }\n\n    .dataframe tbody tr th {\n        vertical-align: top;\n    }\n\n    .dataframe thead th {\n        text-align: right;\n    }\n</style>\n<table border=\"1\" class=\"dataframe\">\n  <thead>\n    <tr style=\"text-align: right;\">\n      <th></th>\n      <th>quantity</th>\n      <th>price</th>\n      <th>invoice</th>\n      <th>extended amount</th>\n    </tr>\n  </thead>\n  <tbody>\n    <tr>\n      <th>count</th>\n      <td>0.0</td>\n      <td>0.000000</td>\n      <td>1000.0</td>\n      <td>0.0</td>\n    </tr>\n    <tr>\n      <th>mean</th>\n      <td>0.0</td>\n      <td>22.816000</td>\n      <td>0.0</td>\n      <td>0.0</td>\n    </tr>\n    <tr>\n      <th>std</th>\n      <td>0.0</td>\n      <td>7.537039</td>\n      <td>0.0</td>\n      <td>0.0</td>\n    </tr>\n    <tr>\n      <th>sum</th>\n      <td>22421.0</td>\n      <td>0.000000</td>\n      <td>0.0</td>\n      <td>510270.0</td>\n    </tr>\n  </tbody>\n</table>\n</div>"
     },
     "execution_count": 8,
     "metadata": {},
     "output_type": "execute_result"
    }
   ],
   "source": [
    "# Multiple column aggregation\n",
    "agg_cols = {\n",
    "    'quantity': 'sum',\n",
    "    'price': ['mean', 'std'],\n",
    "    'invoice': 'count',\n",
    "    'extended amount': 'sum',\n",
    "            }\n",
    "\n",
    "df.agg(agg_cols).fillna(0)\n"
   ],
   "metadata": {
    "collapsed": false,
    "pycharm": {
     "name": "#%%\n"
    }
   }
  },
  {
   "cell_type": "code",
   "execution_count": 12,
   "outputs": [
    {
     "data": {
      "text/plain": "product\nbook      5340\npen       5005\nposter    5827\nshirt     6249\nName: quantity, dtype: int64"
     },
     "execution_count": 12,
     "metadata": {},
     "output_type": "execute_result"
    }
   ],
   "source": [
    "# Doesn't make sense to sum the price, so pull out the quantity column\n",
    "df.groupby(['product'])['quantity'].sum()"
   ],
   "metadata": {
    "collapsed": false,
    "pycharm": {
     "name": "#%%\n"
    }
   }
  },
  {
   "cell_type": "code",
   "execution_count": 15,
   "outputs": [
    {
     "data": {
      "text/plain": "        quantity                          \n             sum       mean        std max\nproduct                                   \nbook        5340  22.820513  15.472315  50\npen         5005  22.146018  15.840059  50\nposter      5827  21.661710  16.427386  50\nshirt       6249  23.059041  17.085521  50",
      "text/html": "<div>\n<style scoped>\n    .dataframe tbody tr th:only-of-type {\n        vertical-align: middle;\n    }\n\n    .dataframe tbody tr th {\n        vertical-align: top;\n    }\n\n    .dataframe thead tr th {\n        text-align: left;\n    }\n\n    .dataframe thead tr:last-of-type th {\n        text-align: right;\n    }\n</style>\n<table border=\"1\" class=\"dataframe\">\n  <thead>\n    <tr>\n      <th></th>\n      <th colspan=\"4\" halign=\"left\">quantity</th>\n    </tr>\n    <tr>\n      <th></th>\n      <th>sum</th>\n      <th>mean</th>\n      <th>std</th>\n      <th>max</th>\n    </tr>\n    <tr>\n      <th>product</th>\n      <th></th>\n      <th></th>\n      <th></th>\n      <th></th>\n    </tr>\n  </thead>\n  <tbody>\n    <tr>\n      <th>book</th>\n      <td>5340</td>\n      <td>22.820513</td>\n      <td>15.472315</td>\n      <td>50</td>\n    </tr>\n    <tr>\n      <th>pen</th>\n      <td>5005</td>\n      <td>22.146018</td>\n      <td>15.840059</td>\n      <td>50</td>\n    </tr>\n    <tr>\n      <th>poster</th>\n      <td>5827</td>\n      <td>21.661710</td>\n      <td>16.427386</td>\n      <td>50</td>\n    </tr>\n    <tr>\n      <th>shirt</th>\n      <td>6249</td>\n      <td>23.059041</td>\n      <td>17.085521</td>\n      <td>50</td>\n    </tr>\n  </tbody>\n</table>\n</div>"
     },
     "execution_count": 15,
     "metadata": {},
     "output_type": "execute_result"
    }
   ],
   "source": [
    "prod_cols = {\n",
    "    'quantity': ['sum', 'mean', 'std', 'max']\n",
    "}\n",
    "df.groupby(['product']).agg(prod_cols)"
   ],
   "metadata": {
    "collapsed": false,
    "pycharm": {
     "name": "#%%\n"
    }
   }
  },
  {
   "cell_type": "code",
   "execution_count": 17,
   "outputs": [
    {
     "data": {
      "text/plain": "                quantity                          \n                     sum       mean        std max\ncompany product                                   \nAbatz   book          64  21.333333  25.501634  47\n        pen            7   7.000000   0.000000   7\n        poster        39  39.000000   0.000000  39\nAgivu   book          11  11.000000   0.000000  11\n        shirt         20  20.000000   0.000000  20\n...                  ...        ...        ...  ..\nZooxo   book          30  30.000000   0.000000  30\n        shirt         85  42.500000   2.121320  44\nZoozzy  pen           31  31.000000   0.000000  31\n        poster        31  15.500000  21.920310  31\n        shirt         23  23.000000   0.000000  23\n\n[731 rows x 4 columns]",
      "text/html": "<div>\n<style scoped>\n    .dataframe tbody tr th:only-of-type {\n        vertical-align: middle;\n    }\n\n    .dataframe tbody tr th {\n        vertical-align: top;\n    }\n\n    .dataframe thead tr th {\n        text-align: left;\n    }\n\n    .dataframe thead tr:last-of-type th {\n        text-align: right;\n    }\n</style>\n<table border=\"1\" class=\"dataframe\">\n  <thead>\n    <tr>\n      <th></th>\n      <th></th>\n      <th colspan=\"4\" halign=\"left\">quantity</th>\n    </tr>\n    <tr>\n      <th></th>\n      <th></th>\n      <th>sum</th>\n      <th>mean</th>\n      <th>std</th>\n      <th>max</th>\n    </tr>\n    <tr>\n      <th>company</th>\n      <th>product</th>\n      <th></th>\n      <th></th>\n      <th></th>\n      <th></th>\n    </tr>\n  </thead>\n  <tbody>\n    <tr>\n      <th rowspan=\"3\" valign=\"top\">Abatz</th>\n      <th>book</th>\n      <td>64</td>\n      <td>21.333333</td>\n      <td>25.501634</td>\n      <td>47</td>\n    </tr>\n    <tr>\n      <th>pen</th>\n      <td>7</td>\n      <td>7.000000</td>\n      <td>0.000000</td>\n      <td>7</td>\n    </tr>\n    <tr>\n      <th>poster</th>\n      <td>39</td>\n      <td>39.000000</td>\n      <td>0.000000</td>\n      <td>39</td>\n    </tr>\n    <tr>\n      <th rowspan=\"2\" valign=\"top\">Agivu</th>\n      <th>book</th>\n      <td>11</td>\n      <td>11.000000</td>\n      <td>0.000000</td>\n      <td>11</td>\n    </tr>\n    <tr>\n      <th>shirt</th>\n      <td>20</td>\n      <td>20.000000</td>\n      <td>0.000000</td>\n      <td>20</td>\n    </tr>\n    <tr>\n      <th>...</th>\n      <th>...</th>\n      <td>...</td>\n      <td>...</td>\n      <td>...</td>\n      <td>...</td>\n    </tr>\n    <tr>\n      <th rowspan=\"2\" valign=\"top\">Zooxo</th>\n      <th>book</th>\n      <td>30</td>\n      <td>30.000000</td>\n      <td>0.000000</td>\n      <td>30</td>\n    </tr>\n    <tr>\n      <th>shirt</th>\n      <td>85</td>\n      <td>42.500000</td>\n      <td>2.121320</td>\n      <td>44</td>\n    </tr>\n    <tr>\n      <th rowspan=\"3\" valign=\"top\">Zoozzy</th>\n      <th>pen</th>\n      <td>31</td>\n      <td>31.000000</td>\n      <td>0.000000</td>\n      <td>31</td>\n    </tr>\n    <tr>\n      <th>poster</th>\n      <td>31</td>\n      <td>15.500000</td>\n      <td>21.920310</td>\n      <td>31</td>\n    </tr>\n    <tr>\n      <th>shirt</th>\n      <td>23</td>\n      <td>23.000000</td>\n      <td>0.000000</td>\n      <td>23</td>\n    </tr>\n  </tbody>\n</table>\n<p>731 rows × 4 columns</p>\n</div>"
     },
     "execution_count": 17,
     "metadata": {},
     "output_type": "execute_result"
    }
   ],
   "source": [
    "df.groupby(['company', 'product']).agg(prod_cols).fillna(0)"
   ],
   "metadata": {
    "collapsed": false,
    "pycharm": {
     "name": "#%%\n"
    }
   }
  },
  {
   "cell_type": "code",
   "execution_count": 18,
   "outputs": [
    {
     "data": {
      "text/plain": "    company product quantity                          \n                         sum       mean        std max\n0     Abatz    book       64  21.333333  25.501634  47\n1     Abatz     pen        7   7.000000   0.000000   7\n2     Abatz  poster       39  39.000000   0.000000  39\n3     Agivu    book       11  11.000000   0.000000  11\n4     Agivu   shirt       20  20.000000   0.000000  20\n..      ...     ...      ...        ...        ...  ..\n726   Zooxo    book       30  30.000000   0.000000  30\n727   Zooxo   shirt       85  42.500000   2.121320  44\n728  Zoozzy     pen       31  31.000000   0.000000  31\n729  Zoozzy  poster       31  15.500000  21.920310  31\n730  Zoozzy   shirt       23  23.000000   0.000000  23\n\n[731 rows x 6 columns]",
      "text/html": "<div>\n<style scoped>\n    .dataframe tbody tr th:only-of-type {\n        vertical-align: middle;\n    }\n\n    .dataframe tbody tr th {\n        vertical-align: top;\n    }\n\n    .dataframe thead tr th {\n        text-align: left;\n    }\n</style>\n<table border=\"1\" class=\"dataframe\">\n  <thead>\n    <tr>\n      <th></th>\n      <th>company</th>\n      <th>product</th>\n      <th colspan=\"4\" halign=\"left\">quantity</th>\n    </tr>\n    <tr>\n      <th></th>\n      <th></th>\n      <th></th>\n      <th>sum</th>\n      <th>mean</th>\n      <th>std</th>\n      <th>max</th>\n    </tr>\n  </thead>\n  <tbody>\n    <tr>\n      <th>0</th>\n      <td>Abatz</td>\n      <td>book</td>\n      <td>64</td>\n      <td>21.333333</td>\n      <td>25.501634</td>\n      <td>47</td>\n    </tr>\n    <tr>\n      <th>1</th>\n      <td>Abatz</td>\n      <td>pen</td>\n      <td>7</td>\n      <td>7.000000</td>\n      <td>0.000000</td>\n      <td>7</td>\n    </tr>\n    <tr>\n      <th>2</th>\n      <td>Abatz</td>\n      <td>poster</td>\n      <td>39</td>\n      <td>39.000000</td>\n      <td>0.000000</td>\n      <td>39</td>\n    </tr>\n    <tr>\n      <th>3</th>\n      <td>Agivu</td>\n      <td>book</td>\n      <td>11</td>\n      <td>11.000000</td>\n      <td>0.000000</td>\n      <td>11</td>\n    </tr>\n    <tr>\n      <th>4</th>\n      <td>Agivu</td>\n      <td>shirt</td>\n      <td>20</td>\n      <td>20.000000</td>\n      <td>0.000000</td>\n      <td>20</td>\n    </tr>\n    <tr>\n      <th>...</th>\n      <td>...</td>\n      <td>...</td>\n      <td>...</td>\n      <td>...</td>\n      <td>...</td>\n      <td>...</td>\n    </tr>\n    <tr>\n      <th>726</th>\n      <td>Zooxo</td>\n      <td>book</td>\n      <td>30</td>\n      <td>30.000000</td>\n      <td>0.000000</td>\n      <td>30</td>\n    </tr>\n    <tr>\n      <th>727</th>\n      <td>Zooxo</td>\n      <td>shirt</td>\n      <td>85</td>\n      <td>42.500000</td>\n      <td>2.121320</td>\n      <td>44</td>\n    </tr>\n    <tr>\n      <th>728</th>\n      <td>Zoozzy</td>\n      <td>pen</td>\n      <td>31</td>\n      <td>31.000000</td>\n      <td>0.000000</td>\n      <td>31</td>\n    </tr>\n    <tr>\n      <th>729</th>\n      <td>Zoozzy</td>\n      <td>poster</td>\n      <td>31</td>\n      <td>15.500000</td>\n      <td>21.920310</td>\n      <td>31</td>\n    </tr>\n    <tr>\n      <th>730</th>\n      <td>Zoozzy</td>\n      <td>shirt</td>\n      <td>23</td>\n      <td>23.000000</td>\n      <td>0.000000</td>\n      <td>23</td>\n    </tr>\n  </tbody>\n</table>\n<p>731 rows × 6 columns</p>\n</div>"
     },
     "execution_count": 18,
     "metadata": {},
     "output_type": "execute_result"
    }
   ],
   "source": [
    "df.groupby(['company', 'product']).agg(prod_cols).fillna(0).reset_index()\n"
   ],
   "metadata": {
    "collapsed": false,
    "pycharm": {
     "name": "#%%\n"
    }
   }
  },
  {
   "cell_type": "markdown",
   "source": [
    "Named Aggregation examples"
   ],
   "metadata": {
    "collapsed": false,
    "pycharm": {
     "name": "#%% md\n"
    }
   }
  },
  {
   "cell_type": "code",
   "execution_count": 19,
   "outputs": [
    {
     "data": {
      "text/plain": "           invoice_total  max_purchase\ncompany                               \nAbatz                  5          1410\nAgivu                  2           700\nAibox                  2           828\nAilane                 3           400\nAimbo                  3           570\n...                  ...           ...\nZoonoodle              3           644\nZooveo                 4           609\nZoovu                  2           165\nZooxo                  3           968\nZoozzy                 4           620\n\n[351 rows x 2 columns]",
      "text/html": "<div>\n<style scoped>\n    .dataframe tbody tr th:only-of-type {\n        vertical-align: middle;\n    }\n\n    .dataframe tbody tr th {\n        vertical-align: top;\n    }\n\n    .dataframe thead th {\n        text-align: right;\n    }\n</style>\n<table border=\"1\" class=\"dataframe\">\n  <thead>\n    <tr style=\"text-align: right;\">\n      <th></th>\n      <th>invoice_total</th>\n      <th>max_purchase</th>\n    </tr>\n    <tr>\n      <th>company</th>\n      <th></th>\n      <th></th>\n    </tr>\n  </thead>\n  <tbody>\n    <tr>\n      <th>Abatz</th>\n      <td>5</td>\n      <td>1410</td>\n    </tr>\n    <tr>\n      <th>Agivu</th>\n      <td>2</td>\n      <td>700</td>\n    </tr>\n    <tr>\n      <th>Aibox</th>\n      <td>2</td>\n      <td>828</td>\n    </tr>\n    <tr>\n      <th>Ailane</th>\n      <td>3</td>\n      <td>400</td>\n    </tr>\n    <tr>\n      <th>Aimbo</th>\n      <td>3</td>\n      <td>570</td>\n    </tr>\n    <tr>\n      <th>...</th>\n      <td>...</td>\n      <td>...</td>\n    </tr>\n    <tr>\n      <th>Zoonoodle</th>\n      <td>3</td>\n      <td>644</td>\n    </tr>\n    <tr>\n      <th>Zooveo</th>\n      <td>4</td>\n      <td>609</td>\n    </tr>\n    <tr>\n      <th>Zoovu</th>\n      <td>2</td>\n      <td>165</td>\n    </tr>\n    <tr>\n      <th>Zooxo</th>\n      <td>3</td>\n      <td>968</td>\n    </tr>\n    <tr>\n      <th>Zoozzy</th>\n      <td>4</td>\n      <td>620</td>\n    </tr>\n  </tbody>\n</table>\n<p>351 rows × 2 columns</p>\n</div>"
     },
     "execution_count": 19,
     "metadata": {},
     "output_type": "execute_result"
    }
   ],
   "source": [
    "df.groupby(['company']).agg(invoice_total=('invoice', 'count'),\n",
    "                            max_purchase=('extended amount', 'max'))\n"
   ],
   "metadata": {
    "collapsed": false,
    "pycharm": {
     "name": "#%%\n"
    }
   }
  },
  {
   "cell_type": "code",
   "execution_count": null,
   "outputs": [],
   "source": [],
   "metadata": {
    "collapsed": false,
    "pycharm": {
     "name": "#%%\n"
    }
   }
  }
 ],
 "metadata": {
  "kernelspec": {
   "display_name": "Python 3",
   "language": "python",
   "name": "python3"
  },
  "language_info": {
   "codemirror_mode": {
    "name": "ipython",
    "version": 2
   },
   "file_extension": ".py",
   "mimetype": "text/x-python",
   "name": "python",
   "nbconvert_exporter": "python",
   "pygments_lexer": "ipython2",
   "version": "2.7.6"
  }
 },
 "nbformat": 4,
 "nbformat_minor": 0
}