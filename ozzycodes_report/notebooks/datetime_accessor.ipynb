{
 "cells": [
  {
   "cell_type": "markdown",
   "metadata": {
    "collapsed": true,
    "pycharm": {
     "name": "#%% md\n"
    }
   },
   "source": [
    "# Full-Year Sales Analysis\n",
    "Date File - sample_sales.xlsx<br>\n",
    "Examples of using accessors"
   ]
  },
  {
   "cell_type": "code",
   "execution_count": 1,
   "outputs": [],
   "source": [
    "import pandas as pd\n",
    "from pathlib import Path"
   ],
   "metadata": {
    "collapsed": false,
    "pycharm": {
     "name": "#%%\n"
    }
   }
  },
  {
   "cell_type": "code",
   "execution_count": 2,
   "outputs": [
    {
     "data": {
      "text/plain": "     invoice    company purchase_date      sku product  quantity  price  \\\n0  ZN-870-29   Realcube    2019-03-05   L-Y-71   shirt        19     17   \n1  JQ-501-63      Zooxo    2019-07-09    E-532    book        30     14   \n2  FI-165-58    Dabtype    2019-08-12    S-909  poster         7     23   \n3  XP-005-55   Skipfire    2019-11-18    B-B-5     pen         7     29   \n4  NB-917-18   Bluezoom    2019-04-18    L-477  poster        36     19   \n5  MI-696-11     Zooveo    2019-10-17   B-BK-5     pen        -1     30   \n6  MQ-907-02  Babbleset    2019-10-27    L-579  poster        30     21   \n7  NX-102-26   Fliptune    2019-10-16    E-201    book        40     28   \n8  LE-516-00   Buzzbean    2019-06-17    S-393  poster        -3     16   \n9  VD-518-20   Dabshots    2019-03-12  XL-B-12   shirt        19     28   \n\n   extended amount  shipping_cost  \n0              323           6.46  \n1              420           8.40  \n2              161           3.22  \n3              203           4.06  \n4              684          13.68  \n5              -30           0.00  \n6              630          12.60  \n7             1120          22.40  \n8              -48           0.00  \n9              532          10.64  ",
      "text/html": "<div>\n<style scoped>\n    .dataframe tbody tr th:only-of-type {\n        vertical-align: middle;\n    }\n\n    .dataframe tbody tr th {\n        vertical-align: top;\n    }\n\n    .dataframe thead th {\n        text-align: right;\n    }\n</style>\n<table border=\"1\" class=\"dataframe\">\n  <thead>\n    <tr style=\"text-align: right;\">\n      <th></th>\n      <th>invoice</th>\n      <th>company</th>\n      <th>purchase_date</th>\n      <th>sku</th>\n      <th>product</th>\n      <th>quantity</th>\n      <th>price</th>\n      <th>extended amount</th>\n      <th>shipping_cost</th>\n    </tr>\n  </thead>\n  <tbody>\n    <tr>\n      <th>0</th>\n      <td>ZN-870-29</td>\n      <td>Realcube</td>\n      <td>2019-03-05</td>\n      <td>L-Y-71</td>\n      <td>shirt</td>\n      <td>19</td>\n      <td>17</td>\n      <td>323</td>\n      <td>6.46</td>\n    </tr>\n    <tr>\n      <th>1</th>\n      <td>JQ-501-63</td>\n      <td>Zooxo</td>\n      <td>2019-07-09</td>\n      <td>E-532</td>\n      <td>book</td>\n      <td>30</td>\n      <td>14</td>\n      <td>420</td>\n      <td>8.40</td>\n    </tr>\n    <tr>\n      <th>2</th>\n      <td>FI-165-58</td>\n      <td>Dabtype</td>\n      <td>2019-08-12</td>\n      <td>S-909</td>\n      <td>poster</td>\n      <td>7</td>\n      <td>23</td>\n      <td>161</td>\n      <td>3.22</td>\n    </tr>\n    <tr>\n      <th>3</th>\n      <td>XP-005-55</td>\n      <td>Skipfire</td>\n      <td>2019-11-18</td>\n      <td>B-B-5</td>\n      <td>pen</td>\n      <td>7</td>\n      <td>29</td>\n      <td>203</td>\n      <td>4.06</td>\n    </tr>\n    <tr>\n      <th>4</th>\n      <td>NB-917-18</td>\n      <td>Bluezoom</td>\n      <td>2019-04-18</td>\n      <td>L-477</td>\n      <td>poster</td>\n      <td>36</td>\n      <td>19</td>\n      <td>684</td>\n      <td>13.68</td>\n    </tr>\n    <tr>\n      <th>5</th>\n      <td>MI-696-11</td>\n      <td>Zooveo</td>\n      <td>2019-10-17</td>\n      <td>B-BK-5</td>\n      <td>pen</td>\n      <td>-1</td>\n      <td>30</td>\n      <td>-30</td>\n      <td>0.00</td>\n    </tr>\n    <tr>\n      <th>6</th>\n      <td>MQ-907-02</td>\n      <td>Babbleset</td>\n      <td>2019-10-27</td>\n      <td>L-579</td>\n      <td>poster</td>\n      <td>30</td>\n      <td>21</td>\n      <td>630</td>\n      <td>12.60</td>\n    </tr>\n    <tr>\n      <th>7</th>\n      <td>NX-102-26</td>\n      <td>Fliptune</td>\n      <td>2019-10-16</td>\n      <td>E-201</td>\n      <td>book</td>\n      <td>40</td>\n      <td>28</td>\n      <td>1120</td>\n      <td>22.40</td>\n    </tr>\n    <tr>\n      <th>8</th>\n      <td>LE-516-00</td>\n      <td>Buzzbean</td>\n      <td>2019-06-17</td>\n      <td>S-393</td>\n      <td>poster</td>\n      <td>-3</td>\n      <td>16</td>\n      <td>-48</td>\n      <td>0.00</td>\n    </tr>\n    <tr>\n      <th>9</th>\n      <td>VD-518-20</td>\n      <td>Dabshots</td>\n      <td>2019-03-12</td>\n      <td>XL-B-12</td>\n      <td>shirt</td>\n      <td>19</td>\n      <td>28</td>\n      <td>532</td>\n      <td>10.64</td>\n    </tr>\n  </tbody>\n</table>\n</div>"
     },
     "execution_count": 2,
     "metadata": {},
     "output_type": "execute_result"
    }
   ],
   "source": [
    "src_file = Path.cwd() / 'data' / 'raw' / 'sample_sales_details.xlsx'\n",
    "df = pd.read_excel(src_file)\n",
    "df.head(10)"
   ],
   "metadata": {
    "collapsed": false,
    "pycharm": {
     "name": "#%%\n"
    }
   }
  },
  {
   "cell_type": "code",
   "execution_count": 3,
   "outputs": [
    {
     "name": "stdout",
     "output_type": "stream",
     "text": [
      "<class 'pandas.core.frame.DataFrame'>\n",
      "RangeIndex: 1000 entries, 0 to 999\n",
      "Data columns (total 9 columns):\n",
      " #   Column           Non-Null Count  Dtype         \n",
      "---  ------           --------------  -----         \n",
      " 0   invoice          1000 non-null   object        \n",
      " 1   company          1000 non-null   object        \n",
      " 2   purchase_date    1000 non-null   datetime64[ns]\n",
      " 3   sku              1000 non-null   object        \n",
      " 4   product          1000 non-null   object        \n",
      " 5   quantity         1000 non-null   int64         \n",
      " 6   price            1000 non-null   int64         \n",
      " 7   extended amount  1000 non-null   int64         \n",
      " 8   shipping_cost    1000 non-null   float64       \n",
      "dtypes: datetime64[ns](1), float64(1), int64(3), object(4)\n",
      "memory usage: 70.4+ KB\n"
     ]
    }
   ],
   "source": [
    "df.info()"
   ],
   "metadata": {
    "collapsed": false,
    "pycharm": {
     "name": "#%%\n"
    }
   }
  },
  {
   "cell_type": "code",
   "execution_count": 4,
   "outputs": [
    {
     "data": {
      "text/plain": "0       3\n1       7\n2       8\n3      11\n4       4\n       ..\n995     9\n996     9\n997     3\n998    12\n999    11\nName: purchase_date, Length: 1000, dtype: int64"
     },
     "execution_count": 4,
     "metadata": {},
     "output_type": "execute_result"
    }
   ],
   "source": [
    "df['purchase_date'].dt.month"
   ],
   "metadata": {
    "collapsed": false,
    "pycharm": {
     "name": "#%%\n"
    }
   }
  },
  {
   "cell_type": "code",
   "execution_count": 5,
   "outputs": [
    {
     "data": {
      "text/plain": "0      2019\n1      2019\n2      2019\n3      2019\n4      2019\n       ... \n995    2019\n996    2019\n997    2019\n998    2019\n999    2019\nName: purchase_date, Length: 1000, dtype: int64"
     },
     "execution_count": 5,
     "metadata": {},
     "output_type": "execute_result"
    }
   ],
   "source": [
    "df['purchase_date'].dt.year"
   ],
   "metadata": {
    "collapsed": false,
    "pycharm": {
     "name": "#%%\n"
    }
   }
  },
  {
   "cell_type": "code",
   "execution_count": 6,
   "outputs": [
    {
     "name": "stderr",
     "output_type": "stream",
     "text": [
      "<ipython-input-6-36738e94fd12>:1: FutureWarning: Series.dt.weekofyear and Series.dt.week have been deprecated.  Please use Series.dt.isocalendar().week instead.\n",
      "  df['purchase_date'].dt.week\n"
     ]
    },
    {
     "data": {
      "text/plain": "0      10\n1      28\n2      33\n3      47\n4      16\n       ..\n995    37\n996    36\n997    12\n998     1\n999    46\nName: purchase_date, Length: 1000, dtype: int64"
     },
     "execution_count": 6,
     "metadata": {},
     "output_type": "execute_result"
    }
   ],
   "source": [
    "df['purchase_date'].dt.week"
   ],
   "metadata": {
    "collapsed": false,
    "pycharm": {
     "name": "#%%\n"
    }
   }
  },
  {
   "cell_type": "code",
   "execution_count": 7,
   "outputs": [
    {
     "data": {
      "text/plain": "0      1\n1      3\n2      3\n3      4\n4      2\n      ..\n995    3\n996    3\n997    1\n998    4\n999    4\nName: purchase_date, Length: 1000, dtype: int64"
     },
     "execution_count": 7,
     "metadata": {},
     "output_type": "execute_result"
    }
   ],
   "source": [
    "df['purchase_date'].dt.quarter\n"
   ],
   "metadata": {
    "collapsed": false,
    "pycharm": {
     "name": "#%%\n"
    }
   }
  },
  {
   "cell_type": "code",
   "execution_count": 8,
   "outputs": [
    {
     "data": {
      "text/plain": "0      31\n1      31\n2      31\n3      30\n4      30\n       ..\n995    30\n996    30\n997    31\n998    31\n999    30\nName: purchase_date, Length: 1000, dtype: int64"
     },
     "execution_count": 8,
     "metadata": {},
     "output_type": "execute_result"
    }
   ],
   "source": [
    "df['purchase_date'].dt.days_in_month\n"
   ],
   "metadata": {
    "collapsed": false,
    "pycharm": {
     "name": "#%%\n"
    }
   }
  },
  {
   "cell_type": "code",
   "execution_count": 9,
   "outputs": [
    {
     "data": {
      "text/plain": "0      False\n1      False\n2      False\n3      False\n4      False\n       ...  \n995    False\n996    False\n997    False\n998    False\n999    False\nName: purchase_date, Length: 1000, dtype: bool"
     },
     "execution_count": 9,
     "metadata": {},
     "output_type": "execute_result"
    }
   ],
   "source": [
    "df['purchase_date'].dt.is_month_end"
   ],
   "metadata": {
    "collapsed": false,
    "pycharm": {
     "name": "#%%\n"
    }
   }
  },
  {
   "cell_type": "code",
   "execution_count": 10,
   "outputs": [
    {
     "data": {
      "text/plain": "     invoice    company purchase_date      sku product  quantity  price  \\\n0  ZN-870-29   Realcube    2019-03-05   L-Y-71   shirt        19     17   \n1  JQ-501-63      Zooxo    2019-07-09    E-532    book        30     14   \n2  FI-165-58    Dabtype    2019-08-12    S-909  poster         7     23   \n3  XP-005-55   Skipfire    2019-11-18    B-B-5     pen         7     29   \n4  NB-917-18   Bluezoom    2019-04-18    L-477  poster        36     19   \n5  MI-696-11     Zooveo    2019-10-17   B-BK-5     pen        -1     30   \n6  MQ-907-02  Babbleset    2019-10-27    L-579  poster        30     21   \n7  NX-102-26   Fliptune    2019-10-16    E-201    book        40     28   \n8  LE-516-00   Buzzbean    2019-06-17    S-393  poster        -3     16   \n9  VD-518-20   Dabshots    2019-03-12  XL-B-12   shirt        19     28   \n\n   extended amount  shipping_cost  purchase_month  purchase_year  \\\n0              323           6.46               3           2019   \n1              420           8.40               7           2019   \n2              161           3.22               8           2019   \n3              203           4.06              11           2019   \n4              684          13.68               4           2019   \n5              -30           0.00              10           2019   \n6              630          12.60              10           2019   \n7             1120          22.40              10           2019   \n8              -48           0.00               6           2019   \n9              532          10.64               3           2019   \n\n   purchase_quarter  \n0                 1  \n1                 3  \n2                 3  \n3                 4  \n4                 2  \n5                 4  \n6                 4  \n7                 4  \n8                 2  \n9                 1  ",
      "text/html": "<div>\n<style scoped>\n    .dataframe tbody tr th:only-of-type {\n        vertical-align: middle;\n    }\n\n    .dataframe tbody tr th {\n        vertical-align: top;\n    }\n\n    .dataframe thead th {\n        text-align: right;\n    }\n</style>\n<table border=\"1\" class=\"dataframe\">\n  <thead>\n    <tr style=\"text-align: right;\">\n      <th></th>\n      <th>invoice</th>\n      <th>company</th>\n      <th>purchase_date</th>\n      <th>sku</th>\n      <th>product</th>\n      <th>quantity</th>\n      <th>price</th>\n      <th>extended amount</th>\n      <th>shipping_cost</th>\n      <th>purchase_month</th>\n      <th>purchase_year</th>\n      <th>purchase_quarter</th>\n    </tr>\n  </thead>\n  <tbody>\n    <tr>\n      <th>0</th>\n      <td>ZN-870-29</td>\n      <td>Realcube</td>\n      <td>2019-03-05</td>\n      <td>L-Y-71</td>\n      <td>shirt</td>\n      <td>19</td>\n      <td>17</td>\n      <td>323</td>\n      <td>6.46</td>\n      <td>3</td>\n      <td>2019</td>\n      <td>1</td>\n    </tr>\n    <tr>\n      <th>1</th>\n      <td>JQ-501-63</td>\n      <td>Zooxo</td>\n      <td>2019-07-09</td>\n      <td>E-532</td>\n      <td>book</td>\n      <td>30</td>\n      <td>14</td>\n      <td>420</td>\n      <td>8.40</td>\n      <td>7</td>\n      <td>2019</td>\n      <td>3</td>\n    </tr>\n    <tr>\n      <th>2</th>\n      <td>FI-165-58</td>\n      <td>Dabtype</td>\n      <td>2019-08-12</td>\n      <td>S-909</td>\n      <td>poster</td>\n      <td>7</td>\n      <td>23</td>\n      <td>161</td>\n      <td>3.22</td>\n      <td>8</td>\n      <td>2019</td>\n      <td>3</td>\n    </tr>\n    <tr>\n      <th>3</th>\n      <td>XP-005-55</td>\n      <td>Skipfire</td>\n      <td>2019-11-18</td>\n      <td>B-B-5</td>\n      <td>pen</td>\n      <td>7</td>\n      <td>29</td>\n      <td>203</td>\n      <td>4.06</td>\n      <td>11</td>\n      <td>2019</td>\n      <td>4</td>\n    </tr>\n    <tr>\n      <th>4</th>\n      <td>NB-917-18</td>\n      <td>Bluezoom</td>\n      <td>2019-04-18</td>\n      <td>L-477</td>\n      <td>poster</td>\n      <td>36</td>\n      <td>19</td>\n      <td>684</td>\n      <td>13.68</td>\n      <td>4</td>\n      <td>2019</td>\n      <td>2</td>\n    </tr>\n    <tr>\n      <th>5</th>\n      <td>MI-696-11</td>\n      <td>Zooveo</td>\n      <td>2019-10-17</td>\n      <td>B-BK-5</td>\n      <td>pen</td>\n      <td>-1</td>\n      <td>30</td>\n      <td>-30</td>\n      <td>0.00</td>\n      <td>10</td>\n      <td>2019</td>\n      <td>4</td>\n    </tr>\n    <tr>\n      <th>6</th>\n      <td>MQ-907-02</td>\n      <td>Babbleset</td>\n      <td>2019-10-27</td>\n      <td>L-579</td>\n      <td>poster</td>\n      <td>30</td>\n      <td>21</td>\n      <td>630</td>\n      <td>12.60</td>\n      <td>10</td>\n      <td>2019</td>\n      <td>4</td>\n    </tr>\n    <tr>\n      <th>7</th>\n      <td>NX-102-26</td>\n      <td>Fliptune</td>\n      <td>2019-10-16</td>\n      <td>E-201</td>\n      <td>book</td>\n      <td>40</td>\n      <td>28</td>\n      <td>1120</td>\n      <td>22.40</td>\n      <td>10</td>\n      <td>2019</td>\n      <td>4</td>\n    </tr>\n    <tr>\n      <th>8</th>\n      <td>LE-516-00</td>\n      <td>Buzzbean</td>\n      <td>2019-06-17</td>\n      <td>S-393</td>\n      <td>poster</td>\n      <td>-3</td>\n      <td>16</td>\n      <td>-48</td>\n      <td>0.00</td>\n      <td>6</td>\n      <td>2019</td>\n      <td>2</td>\n    </tr>\n    <tr>\n      <th>9</th>\n      <td>VD-518-20</td>\n      <td>Dabshots</td>\n      <td>2019-03-12</td>\n      <td>XL-B-12</td>\n      <td>shirt</td>\n      <td>19</td>\n      <td>28</td>\n      <td>532</td>\n      <td>10.64</td>\n      <td>3</td>\n      <td>2019</td>\n      <td>1</td>\n    </tr>\n  </tbody>\n</table>\n</div>"
     },
     "execution_count": 10,
     "metadata": {},
     "output_type": "execute_result"
    }
   ],
   "source": [
    "df['purchase_month'] = df['purchase_date'].dt.month\n",
    "df['purchase_year'] = df['purchase_date'].dt.year\n",
    "df['purchase_quarter'] = df['purchase_date'].dt.quarter\n",
    "\n",
    "df.head(10)"
   ],
   "metadata": {
    "collapsed": false,
    "pycharm": {
     "name": "#%%\n"
    }
   }
  },
  {
   "cell_type": "code",
   "execution_count": 11,
   "outputs": [
    {
     "data": {
      "text/plain": "0       Realcube\n1          Zooxo\n2        Dabtype\n3       Skipfire\n4       Bluezoom\n         ...    \n995         Viva\n996         Viva\n997      Dabfeed\n998    Photobean\n999       Mybuzz\nName: company, Length: 1000, dtype: object"
     },
     "execution_count": 11,
     "metadata": {},
     "output_type": "execute_result"
    }
   ],
   "source": [
    "df['company'].str.title()"
   ],
   "metadata": {
    "collapsed": false,
    "pycharm": {
     "name": "#%%\n"
    }
   }
  },
  {
   "cell_type": "code",
   "execution_count": 12,
   "outputs": [
    {
     "data": {
      "text/plain": "0      8\n1      5\n2      7\n3      8\n4      8\n      ..\n995    4\n996    4\n997    7\n998    9\n999    6\nName: company, Length: 1000, dtype: int64"
     },
     "execution_count": 12,
     "metadata": {},
     "output_type": "execute_result"
    }
   ],
   "source": [
    "df['company'].str.len()"
   ],
   "metadata": {
    "collapsed": false,
    "pycharm": {
     "name": "#%%\n"
    }
   }
  },
  {
   "cell_type": "code",
   "execution_count": 13,
   "outputs": [
    {
     "data": {
      "text/plain": "     invoice    company purchase_date      sku product  quantity  price  \\\n0  ZN-870-29   Realcube    2019-03-05   L-Y-71   shirt        19     17   \n1  JQ-501-63      Zooxo    2019-07-09    E-532    book        30     14   \n2  FI-165-58    Dabtype    2019-08-12    S-909  poster         7     23   \n3  XP-005-55   Skipfire    2019-11-18    B-B-5     pen         7     29   \n4  NB-917-18   Bluezoom    2019-04-18    L-477  poster        36     19   \n5  MI-696-11     Zooveo    2019-10-17   B-BK-5     pen        -1     30   \n6  MQ-907-02  Babbleset    2019-10-27    L-579  poster        30     21   \n7  NX-102-26   Fliptune    2019-10-16    E-201    book        40     28   \n8  LE-516-00   Buzzbean    2019-06-17    S-393  poster        -3     16   \n9  VD-518-20   Dabshots    2019-03-12  XL-B-12   shirt        19     28   \n\n   extended amount  shipping_cost  purchase_month  purchase_year  \\\n0              323           6.46               3           2019   \n1              420           8.40               7           2019   \n2              161           3.22               8           2019   \n3              203           4.06              11           2019   \n4              684          13.68               4           2019   \n5              -30           0.00              10           2019   \n6              630          12.60              10           2019   \n7             1120          22.40              10           2019   \n8              -48           0.00               6           2019   \n9              532          10.64               3           2019   \n\n   purchase_quarter upper_company  \n0                 1      REALCUBE  \n1                 3         ZOOXO  \n2                 3       DABTYPE  \n3                 4      SKIPFIRE  \n4                 2      BLUEZOOM  \n5                 4        ZOOVEO  \n6                 4     BABBLESET  \n7                 4      FLIPTUNE  \n8                 2      BUZZBEAN  \n9                 1      DABSHOTS  ",
      "text/html": "<div>\n<style scoped>\n    .dataframe tbody tr th:only-of-type {\n        vertical-align: middle;\n    }\n\n    .dataframe tbody tr th {\n        vertical-align: top;\n    }\n\n    .dataframe thead th {\n        text-align: right;\n    }\n</style>\n<table border=\"1\" class=\"dataframe\">\n  <thead>\n    <tr style=\"text-align: right;\">\n      <th></th>\n      <th>invoice</th>\n      <th>company</th>\n      <th>purchase_date</th>\n      <th>sku</th>\n      <th>product</th>\n      <th>quantity</th>\n      <th>price</th>\n      <th>extended amount</th>\n      <th>shipping_cost</th>\n      <th>purchase_month</th>\n      <th>purchase_year</th>\n      <th>purchase_quarter</th>\n      <th>upper_company</th>\n    </tr>\n  </thead>\n  <tbody>\n    <tr>\n      <th>0</th>\n      <td>ZN-870-29</td>\n      <td>Realcube</td>\n      <td>2019-03-05</td>\n      <td>L-Y-71</td>\n      <td>shirt</td>\n      <td>19</td>\n      <td>17</td>\n      <td>323</td>\n      <td>6.46</td>\n      <td>3</td>\n      <td>2019</td>\n      <td>1</td>\n      <td>REALCUBE</td>\n    </tr>\n    <tr>\n      <th>1</th>\n      <td>JQ-501-63</td>\n      <td>Zooxo</td>\n      <td>2019-07-09</td>\n      <td>E-532</td>\n      <td>book</td>\n      <td>30</td>\n      <td>14</td>\n      <td>420</td>\n      <td>8.40</td>\n      <td>7</td>\n      <td>2019</td>\n      <td>3</td>\n      <td>ZOOXO</td>\n    </tr>\n    <tr>\n      <th>2</th>\n      <td>FI-165-58</td>\n      <td>Dabtype</td>\n      <td>2019-08-12</td>\n      <td>S-909</td>\n      <td>poster</td>\n      <td>7</td>\n      <td>23</td>\n      <td>161</td>\n      <td>3.22</td>\n      <td>8</td>\n      <td>2019</td>\n      <td>3</td>\n      <td>DABTYPE</td>\n    </tr>\n    <tr>\n      <th>3</th>\n      <td>XP-005-55</td>\n      <td>Skipfire</td>\n      <td>2019-11-18</td>\n      <td>B-B-5</td>\n      <td>pen</td>\n      <td>7</td>\n      <td>29</td>\n      <td>203</td>\n      <td>4.06</td>\n      <td>11</td>\n      <td>2019</td>\n      <td>4</td>\n      <td>SKIPFIRE</td>\n    </tr>\n    <tr>\n      <th>4</th>\n      <td>NB-917-18</td>\n      <td>Bluezoom</td>\n      <td>2019-04-18</td>\n      <td>L-477</td>\n      <td>poster</td>\n      <td>36</td>\n      <td>19</td>\n      <td>684</td>\n      <td>13.68</td>\n      <td>4</td>\n      <td>2019</td>\n      <td>2</td>\n      <td>BLUEZOOM</td>\n    </tr>\n    <tr>\n      <th>5</th>\n      <td>MI-696-11</td>\n      <td>Zooveo</td>\n      <td>2019-10-17</td>\n      <td>B-BK-5</td>\n      <td>pen</td>\n      <td>-1</td>\n      <td>30</td>\n      <td>-30</td>\n      <td>0.00</td>\n      <td>10</td>\n      <td>2019</td>\n      <td>4</td>\n      <td>ZOOVEO</td>\n    </tr>\n    <tr>\n      <th>6</th>\n      <td>MQ-907-02</td>\n      <td>Babbleset</td>\n      <td>2019-10-27</td>\n      <td>L-579</td>\n      <td>poster</td>\n      <td>30</td>\n      <td>21</td>\n      <td>630</td>\n      <td>12.60</td>\n      <td>10</td>\n      <td>2019</td>\n      <td>4</td>\n      <td>BABBLESET</td>\n    </tr>\n    <tr>\n      <th>7</th>\n      <td>NX-102-26</td>\n      <td>Fliptune</td>\n      <td>2019-10-16</td>\n      <td>E-201</td>\n      <td>book</td>\n      <td>40</td>\n      <td>28</td>\n      <td>1120</td>\n      <td>22.40</td>\n      <td>10</td>\n      <td>2019</td>\n      <td>4</td>\n      <td>FLIPTUNE</td>\n    </tr>\n    <tr>\n      <th>8</th>\n      <td>LE-516-00</td>\n      <td>Buzzbean</td>\n      <td>2019-06-17</td>\n      <td>S-393</td>\n      <td>poster</td>\n      <td>-3</td>\n      <td>16</td>\n      <td>-48</td>\n      <td>0.00</td>\n      <td>6</td>\n      <td>2019</td>\n      <td>2</td>\n      <td>BUZZBEAN</td>\n    </tr>\n    <tr>\n      <th>9</th>\n      <td>VD-518-20</td>\n      <td>Dabshots</td>\n      <td>2019-03-12</td>\n      <td>XL-B-12</td>\n      <td>shirt</td>\n      <td>19</td>\n      <td>28</td>\n      <td>532</td>\n      <td>10.64</td>\n      <td>3</td>\n      <td>2019</td>\n      <td>1</td>\n      <td>DABSHOTS</td>\n    </tr>\n  </tbody>\n</table>\n</div>"
     },
     "execution_count": 13,
     "metadata": {},
     "output_type": "execute_result"
    }
   ],
   "source": [
    "df['upper_company'] = df['company'].str.upper()\n",
    "df.head(10)"
   ],
   "metadata": {
    "collapsed": false,
    "pycharm": {
     "name": "#%%\n"
    }
   }
  },
  {
   "cell_type": "code",
   "execution_count": 14,
   "outputs": [
    {
     "data": {
      "text/plain": "0      290.7\n1      378.0\n2      144.9\n3      182.7\n4      615.6\n       ...  \n995   -153.0\n996    489.6\n997    520.2\n998    243.0\n999    734.4\nName: extended amount, Length: 1000, dtype: float64"
     },
     "execution_count": 14,
     "metadata": {},
     "output_type": "execute_result"
    }
   ],
   "source": [
    "df['extended amount'] * .9"
   ],
   "metadata": {
    "collapsed": false,
    "pycharm": {
     "name": "#%%\n"
    }
   }
  },
  {
   "cell_type": "code",
   "execution_count": 15,
   "outputs": [
    {
     "data": {
      "text/plain": "0      290.7\n1      378.0\n2      144.9\n3      182.7\n4      615.6\n       ...  \n995   -153.0\n996    489.6\n997    520.2\n998    243.0\n999    734.4\nName: extended amount, Length: 1000, dtype: float64"
     },
     "execution_count": 15,
     "metadata": {},
     "output_type": "execute_result"
    }
   ],
   "source": [
    "df['extended amount'].mul(.9)"
   ],
   "metadata": {
    "collapsed": false,
    "pycharm": {
     "name": "#%%\n"
    }
   }
  },
  {
   "cell_type": "code",
   "execution_count": 16,
   "outputs": [
    {
     "data": {
      "text/plain": "     invoice    company purchase_date      sku product  quantity  price  \\\n0  ZN-870-29   Realcube    2019-03-05   L-Y-71   shirt        19     17   \n1  JQ-501-63      Zooxo    2019-07-09    E-532    book        30     14   \n2  FI-165-58    Dabtype    2019-08-12    S-909  poster         7     23   \n3  XP-005-55   Skipfire    2019-11-18    B-B-5     pen         7     29   \n4  NB-917-18   Bluezoom    2019-04-18    L-477  poster        36     19   \n5  MI-696-11     Zooveo    2019-10-17   B-BK-5     pen        -1     30   \n6  MQ-907-02  Babbleset    2019-10-27    L-579  poster        30     21   \n7  NX-102-26   Fliptune    2019-10-16    E-201    book        40     28   \n8  LE-516-00   Buzzbean    2019-06-17    S-393  poster        -3     16   \n9  VD-518-20   Dabshots    2019-03-12  XL-B-12   shirt        19     28   \n\n   extended amount  shipping_cost  purchase_month  purchase_year  \\\n0              323           6.46               3           2019   \n1              420           8.40               7           2019   \n2              161           3.22               8           2019   \n3              203           4.06              11           2019   \n4              684          13.68               4           2019   \n5              -30           0.00              10           2019   \n6              630          12.60              10           2019   \n7             1120          22.40              10           2019   \n8              -48           0.00               6           2019   \n9              532          10.64               3           2019   \n\n   purchase_quarter upper_company  new_price  new_extended_amount  \n0                 1      REALCUBE      17.85               339.15  \n1                 3         ZOOXO      14.70               441.00  \n2                 3       DABTYPE      24.15               169.05  \n3                 4      SKIPFIRE      30.45               213.15  \n4                 2      BLUEZOOM      19.95               718.20  \n5                 4        ZOOVEO      31.50               -31.50  \n6                 4     BABBLESET      22.05               661.50  \n7                 4      FLIPTUNE      29.40              1176.00  \n8                 2      BUZZBEAN      16.80               -50.40  \n9                 1      DABSHOTS      29.40               558.60  ",
      "text/html": "<div>\n<style scoped>\n    .dataframe tbody tr th:only-of-type {\n        vertical-align: middle;\n    }\n\n    .dataframe tbody tr th {\n        vertical-align: top;\n    }\n\n    .dataframe thead th {\n        text-align: right;\n    }\n</style>\n<table border=\"1\" class=\"dataframe\">\n  <thead>\n    <tr style=\"text-align: right;\">\n      <th></th>\n      <th>invoice</th>\n      <th>company</th>\n      <th>purchase_date</th>\n      <th>sku</th>\n      <th>product</th>\n      <th>quantity</th>\n      <th>price</th>\n      <th>extended amount</th>\n      <th>shipping_cost</th>\n      <th>purchase_month</th>\n      <th>purchase_year</th>\n      <th>purchase_quarter</th>\n      <th>upper_company</th>\n      <th>new_price</th>\n      <th>new_extended_amount</th>\n    </tr>\n  </thead>\n  <tbody>\n    <tr>\n      <th>0</th>\n      <td>ZN-870-29</td>\n      <td>Realcube</td>\n      <td>2019-03-05</td>\n      <td>L-Y-71</td>\n      <td>shirt</td>\n      <td>19</td>\n      <td>17</td>\n      <td>323</td>\n      <td>6.46</td>\n      <td>3</td>\n      <td>2019</td>\n      <td>1</td>\n      <td>REALCUBE</td>\n      <td>17.85</td>\n      <td>339.15</td>\n    </tr>\n    <tr>\n      <th>1</th>\n      <td>JQ-501-63</td>\n      <td>Zooxo</td>\n      <td>2019-07-09</td>\n      <td>E-532</td>\n      <td>book</td>\n      <td>30</td>\n      <td>14</td>\n      <td>420</td>\n      <td>8.40</td>\n      <td>7</td>\n      <td>2019</td>\n      <td>3</td>\n      <td>ZOOXO</td>\n      <td>14.70</td>\n      <td>441.00</td>\n    </tr>\n    <tr>\n      <th>2</th>\n      <td>FI-165-58</td>\n      <td>Dabtype</td>\n      <td>2019-08-12</td>\n      <td>S-909</td>\n      <td>poster</td>\n      <td>7</td>\n      <td>23</td>\n      <td>161</td>\n      <td>3.22</td>\n      <td>8</td>\n      <td>2019</td>\n      <td>3</td>\n      <td>DABTYPE</td>\n      <td>24.15</td>\n      <td>169.05</td>\n    </tr>\n    <tr>\n      <th>3</th>\n      <td>XP-005-55</td>\n      <td>Skipfire</td>\n      <td>2019-11-18</td>\n      <td>B-B-5</td>\n      <td>pen</td>\n      <td>7</td>\n      <td>29</td>\n      <td>203</td>\n      <td>4.06</td>\n      <td>11</td>\n      <td>2019</td>\n      <td>4</td>\n      <td>SKIPFIRE</td>\n      <td>30.45</td>\n      <td>213.15</td>\n    </tr>\n    <tr>\n      <th>4</th>\n      <td>NB-917-18</td>\n      <td>Bluezoom</td>\n      <td>2019-04-18</td>\n      <td>L-477</td>\n      <td>poster</td>\n      <td>36</td>\n      <td>19</td>\n      <td>684</td>\n      <td>13.68</td>\n      <td>4</td>\n      <td>2019</td>\n      <td>2</td>\n      <td>BLUEZOOM</td>\n      <td>19.95</td>\n      <td>718.20</td>\n    </tr>\n    <tr>\n      <th>5</th>\n      <td>MI-696-11</td>\n      <td>Zooveo</td>\n      <td>2019-10-17</td>\n      <td>B-BK-5</td>\n      <td>pen</td>\n      <td>-1</td>\n      <td>30</td>\n      <td>-30</td>\n      <td>0.00</td>\n      <td>10</td>\n      <td>2019</td>\n      <td>4</td>\n      <td>ZOOVEO</td>\n      <td>31.50</td>\n      <td>-31.50</td>\n    </tr>\n    <tr>\n      <th>6</th>\n      <td>MQ-907-02</td>\n      <td>Babbleset</td>\n      <td>2019-10-27</td>\n      <td>L-579</td>\n      <td>poster</td>\n      <td>30</td>\n      <td>21</td>\n      <td>630</td>\n      <td>12.60</td>\n      <td>10</td>\n      <td>2019</td>\n      <td>4</td>\n      <td>BABBLESET</td>\n      <td>22.05</td>\n      <td>661.50</td>\n    </tr>\n    <tr>\n      <th>7</th>\n      <td>NX-102-26</td>\n      <td>Fliptune</td>\n      <td>2019-10-16</td>\n      <td>E-201</td>\n      <td>book</td>\n      <td>40</td>\n      <td>28</td>\n      <td>1120</td>\n      <td>22.40</td>\n      <td>10</td>\n      <td>2019</td>\n      <td>4</td>\n      <td>FLIPTUNE</td>\n      <td>29.40</td>\n      <td>1176.00</td>\n    </tr>\n    <tr>\n      <th>8</th>\n      <td>LE-516-00</td>\n      <td>Buzzbean</td>\n      <td>2019-06-17</td>\n      <td>S-393</td>\n      <td>poster</td>\n      <td>-3</td>\n      <td>16</td>\n      <td>-48</td>\n      <td>0.00</td>\n      <td>6</td>\n      <td>2019</td>\n      <td>2</td>\n      <td>BUZZBEAN</td>\n      <td>16.80</td>\n      <td>-50.40</td>\n    </tr>\n    <tr>\n      <th>9</th>\n      <td>VD-518-20</td>\n      <td>Dabshots</td>\n      <td>2019-03-12</td>\n      <td>XL-B-12</td>\n      <td>shirt</td>\n      <td>19</td>\n      <td>28</td>\n      <td>532</td>\n      <td>10.64</td>\n      <td>3</td>\n      <td>2019</td>\n      <td>1</td>\n      <td>DABSHOTS</td>\n      <td>29.40</td>\n      <td>558.60</td>\n    </tr>\n  </tbody>\n</table>\n</div>"
     },
     "execution_count": 16,
     "metadata": {},
     "output_type": "execute_result"
    }
   ],
   "source": [
    "df['new_price'] = 1.05 * df['price']\n",
    "df['new_extended_amount'] = df['new_price'] * df['quantity']\n",
    "\n",
    "df.head(10)"
   ],
   "metadata": {
    "collapsed": false,
    "pycharm": {
     "name": "#%%\n"
    }
   }
  },
  {
   "cell_type": "code",
   "execution_count": 23,
   "outputs": [
    {
     "name": "stdout",
     "output_type": "stream",
     "text": [
      "extended amount        510270.0\n",
      "new_extended_amount    535783.5\n",
      "dtype: float64\n"
     ]
    },
    {
     "data": {
      "text/plain": "25513.50000000003"
     },
     "execution_count": 23,
     "metadata": {},
     "output_type": "execute_result"
    }
   ],
   "source": [
    "df['new_extended_amount_diff'] = df['new_extended_amount'] - df['extended amount']\n",
    "print(df[['extended amount', 'new_extended_amount']].sum())\n",
    "df['new_extended_amount_diff'].sum()"
   ],
   "metadata": {
    "collapsed": false,
    "pycharm": {
     "name": "#%%\n"
    }
   }
  },
  {
   "cell_type": "code",
   "execution_count": null,
   "outputs": [],
   "source": [],
   "metadata": {
    "collapsed": false,
    "pycharm": {
     "name": "#%%\n"
    }
   }
  }
 ],
 "metadata": {
  "kernelspec": {
   "display_name": "Python 3",
   "language": "python",
   "name": "python3"
  },
  "language_info": {
   "codemirror_mode": {
    "name": "ipython",
    "version": 2
   },
   "file_extension": ".py",
   "mimetype": "text/x-python",
   "name": "python",
   "nbconvert_exporter": "python",
   "pygments_lexer": "ipython2",
   "version": "2.7.6"
  }
 },
 "nbformat": 4,
 "nbformat_minor": 0
}